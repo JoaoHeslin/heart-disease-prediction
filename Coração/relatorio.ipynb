{
 "cells": [
  {
   "cell_type": "markdown",
   "metadata": {},
   "source": [
    "# Doenças Cardícas\n",
    "- Este notebook tem como objetivo prever a probabilidade de uma pessoa desenvolver algum tipo de doença cardíaca com base em fatores clínicos e laboratoriais."
   ]
  },
  {
   "cell_type": "markdown",
   "metadata": {},
   "source": [
    "## Descrição das Colunas\n",
    "\n",
    "#### **1. Age (Idade)**  \n",
    "Idade do indivíduo (em anos).\n",
    "\n",
    "#### **2. Sex (Sexo)**  \n",
    "Gênero do indivíduo.  \n",
    "- **M**: Masculino  \n",
    "- **F**: Feminino\n",
    "\n",
    "#### **3. ChestPainType (Tipo de Dor no Peito)**  \n",
    "Classificação do tipo de dor no peito, que pode indicar diferentes condições médicas, como angina (dor causada pela diminuição do fluxo de sangue para o coração).  \n",
    "- **ASY**: Assintomático  \n",
    "- **NAP**: Dor não anginosa  \n",
    "- **ATA**: Angina atípica  \n",
    "- **TA**: Angina típica\n",
    "\n",
    "#### **4. RestingBP (Pressão Sanguínea)**\n",
    "Medição da pressão sanguínea do indivíduo em repouso em mmHg(sistólica)\n",
    "\n",
    "#### **5. Cholesterol (Colesterol)**\n",
    "Medição da colesterol sérico do indivíduo (mg/dl)\n",
    "\n",
    "#### **6. FastingBS (Açucar no Sangue)**\n",
    "Medição da açucar no sangue em jejum do indivíduo (mg/dl)\n",
    "- Fasting BS < 120 mg/dl = não diabético(0)\n",
    "- Fasting BS >= 120 mg/dl = diabético(1)\n",
    "\n",
    "#### **7. RestingECG (Eletrocardiograma em Reposuso)**\n",
    "Eletorcardiograma em repouso do indivíduo\n",
    "- Normal: Normal\n",
    "- LVH: hipertrofia Ventricular Esquerda\n",
    "- ST: Anormalidade da onda ST-T\n",
    "\n",
    "#### **8. MaxHR (Frequência Cardiaca Maxima)**\n",
    "Frequência Cardíaca Máxima do indivíduo\n",
    "\n",
    "#### **9. ExerciseAngina (Angina Induzida por Exercício)**\n",
    "Se o indivíduo apresentou angina induzida por exercício\n",
    "- N: Não apresentou\n",
    "- Y: Apresentou\n",
    "\n",
    "#### **10. Oldpeak (Depressão de ST)**\n",
    "Depressão de ST (Referência) ao ECG induzida por exercício em relação ao repouso\n",
    "\n",
    "#### **11. ST_Slope (Inclinação do Segmento St)**\n",
    "Inclinação do Segmento St no ECG\n",
    "- Flat: Plano\n",
    "- Up: Para cima\n",
    "- Down: Para baixo\n",
    "\n",
    "#### **12. HeartDisease (Doença Cardíaca)**\n",
    "Se o indivíduo possui ou não doença cardíaca\n",
    "- 0: Não possui\n",
    "- 1: Posui"
   ]
  },
  {
   "cell_type": "markdown",
   "metadata": {},
   "source": [
    "# Importando as bibliotecas"
   ]
  },
  {
   "cell_type": "code",
   "execution_count": null,
   "metadata": {},
   "outputs": [],
   "source": [
    "import pandas as pd\n",
    "import matplotlib.pyplot as plt\n",
    "import seaborn as sns\n",
    "import numpy as np\n",
    "from sklearn import metrics\n",
    "import warnings\n",
    "warnings.filterwarnings('ignore')\n",
    " \n",
    "sns.set_style(\"whitegrid\")\n",
    "sns.set_palette(\"RdBu\")"
   ]
  },
  {
   "cell_type": "markdown",
   "metadata": {},
   "source": [
    "# Importando a Base de Dados"
   ]
  },
  {
   "cell_type": "code",
   "execution_count": 348,
   "metadata": {},
   "outputs": [],
   "source": [
    "df = pd.read_csv('heart.csv', sep=',', encoding='iso-8859-1')"
   ]
  },
  {
   "cell_type": "markdown",
   "metadata": {},
   "source": [
    "# Informações da Base"
   ]
  },
  {
   "cell_type": "code",
   "execution_count": 349,
   "metadata": {},
   "outputs": [
    {
     "data": {
      "text/html": [
       "<div>\n",
       "<style scoped>\n",
       "    .dataframe tbody tr th:only-of-type {\n",
       "        vertical-align: middle;\n",
       "    }\n",
       "\n",
       "    .dataframe tbody tr th {\n",
       "        vertical-align: top;\n",
       "    }\n",
       "\n",
       "    .dataframe thead th {\n",
       "        text-align: right;\n",
       "    }\n",
       "</style>\n",
       "<table border=\"1\" class=\"dataframe\">\n",
       "  <thead>\n",
       "    <tr style=\"text-align: right;\">\n",
       "      <th></th>\n",
       "      <th>Age</th>\n",
       "      <th>Sex</th>\n",
       "      <th>ChestPainType</th>\n",
       "      <th>RestingBP</th>\n",
       "      <th>Cholesterol</th>\n",
       "      <th>FastingBS</th>\n",
       "      <th>RestingECG</th>\n",
       "      <th>MaxHR</th>\n",
       "      <th>ExerciseAngina</th>\n",
       "      <th>Oldpeak</th>\n",
       "      <th>ST_Slope</th>\n",
       "      <th>HeartDisease</th>\n",
       "    </tr>\n",
       "  </thead>\n",
       "  <tbody>\n",
       "    <tr>\n",
       "      <th>0</th>\n",
       "      <td>40</td>\n",
       "      <td>M</td>\n",
       "      <td>ATA</td>\n",
       "      <td>140</td>\n",
       "      <td>289</td>\n",
       "      <td>0</td>\n",
       "      <td>Normal</td>\n",
       "      <td>172</td>\n",
       "      <td>N</td>\n",
       "      <td>0.0</td>\n",
       "      <td>Up</td>\n",
       "      <td>0</td>\n",
       "    </tr>\n",
       "    <tr>\n",
       "      <th>1</th>\n",
       "      <td>49</td>\n",
       "      <td>F</td>\n",
       "      <td>NAP</td>\n",
       "      <td>160</td>\n",
       "      <td>180</td>\n",
       "      <td>0</td>\n",
       "      <td>Normal</td>\n",
       "      <td>156</td>\n",
       "      <td>N</td>\n",
       "      <td>1.0</td>\n",
       "      <td>Flat</td>\n",
       "      <td>1</td>\n",
       "    </tr>\n",
       "    <tr>\n",
       "      <th>2</th>\n",
       "      <td>37</td>\n",
       "      <td>M</td>\n",
       "      <td>ATA</td>\n",
       "      <td>130</td>\n",
       "      <td>283</td>\n",
       "      <td>0</td>\n",
       "      <td>ST</td>\n",
       "      <td>98</td>\n",
       "      <td>N</td>\n",
       "      <td>0.0</td>\n",
       "      <td>Up</td>\n",
       "      <td>0</td>\n",
       "    </tr>\n",
       "    <tr>\n",
       "      <th>3</th>\n",
       "      <td>48</td>\n",
       "      <td>F</td>\n",
       "      <td>ASY</td>\n",
       "      <td>138</td>\n",
       "      <td>214</td>\n",
       "      <td>0</td>\n",
       "      <td>Normal</td>\n",
       "      <td>108</td>\n",
       "      <td>Y</td>\n",
       "      <td>1.5</td>\n",
       "      <td>Flat</td>\n",
       "      <td>1</td>\n",
       "    </tr>\n",
       "    <tr>\n",
       "      <th>4</th>\n",
       "      <td>54</td>\n",
       "      <td>M</td>\n",
       "      <td>NAP</td>\n",
       "      <td>150</td>\n",
       "      <td>195</td>\n",
       "      <td>0</td>\n",
       "      <td>Normal</td>\n",
       "      <td>122</td>\n",
       "      <td>N</td>\n",
       "      <td>0.0</td>\n",
       "      <td>Up</td>\n",
       "      <td>0</td>\n",
       "    </tr>\n",
       "  </tbody>\n",
       "</table>\n",
       "</div>"
      ],
      "text/plain": [
       "   Age Sex ChestPainType  RestingBP  Cholesterol  FastingBS RestingECG  MaxHR  \\\n",
       "0   40   M           ATA        140          289          0     Normal    172   \n",
       "1   49   F           NAP        160          180          0     Normal    156   \n",
       "2   37   M           ATA        130          283          0         ST     98   \n",
       "3   48   F           ASY        138          214          0     Normal    108   \n",
       "4   54   M           NAP        150          195          0     Normal    122   \n",
       "\n",
       "  ExerciseAngina  Oldpeak ST_Slope  HeartDisease  \n",
       "0              N      0.0       Up             0  \n",
       "1              N      1.0     Flat             1  \n",
       "2              N      0.0       Up             0  \n",
       "3              Y      1.5     Flat             1  \n",
       "4              N      0.0       Up             0  "
      ]
     },
     "execution_count": 349,
     "metadata": {},
     "output_type": "execute_result"
    }
   ],
   "source": [
    "df.head()"
   ]
  },
  {
   "cell_type": "code",
   "execution_count": 350,
   "metadata": {},
   "outputs": [
    {
     "name": "stdout",
     "output_type": "stream",
     "text": [
      "<class 'pandas.core.frame.DataFrame'>\n",
      "RangeIndex: 918 entries, 0 to 917\n",
      "Data columns (total 12 columns):\n",
      " #   Column          Non-Null Count  Dtype  \n",
      "---  ------          --------------  -----  \n",
      " 0   Age             918 non-null    int64  \n",
      " 1   Sex             918 non-null    object \n",
      " 2   ChestPainType   918 non-null    object \n",
      " 3   RestingBP       918 non-null    int64  \n",
      " 4   Cholesterol     918 non-null    int64  \n",
      " 5   FastingBS       918 non-null    int64  \n",
      " 6   RestingECG      918 non-null    object \n",
      " 7   MaxHR           918 non-null    int64  \n",
      " 8   ExerciseAngina  918 non-null    object \n",
      " 9   Oldpeak         918 non-null    float64\n",
      " 10  ST_Slope        918 non-null    object \n",
      " 11  HeartDisease    918 non-null    int64  \n",
      "dtypes: float64(1), int64(6), object(5)\n",
      "memory usage: 86.2+ KB\n"
     ]
    }
   ],
   "source": [
    "df.info()"
   ]
  },
  {
   "cell_type": "code",
   "execution_count": 351,
   "metadata": {},
   "outputs": [
    {
     "data": {
      "text/plain": [
       "Age               0\n",
       "Sex               0\n",
       "ChestPainType     0\n",
       "RestingBP         0\n",
       "Cholesterol       0\n",
       "FastingBS         0\n",
       "RestingECG        0\n",
       "MaxHR             0\n",
       "ExerciseAngina    0\n",
       "Oldpeak           0\n",
       "ST_Slope          0\n",
       "HeartDisease      0\n",
       "dtype: int64"
      ]
     },
     "execution_count": 351,
     "metadata": {},
     "output_type": "execute_result"
    }
   ],
   "source": [
    "df.isnull().sum()"
   ]
  },
  {
   "cell_type": "code",
   "execution_count": 352,
   "metadata": {},
   "outputs": [
    {
     "data": {
      "text/plain": [
       "(918, 12)"
      ]
     },
     "execution_count": 352,
     "metadata": {},
     "output_type": "execute_result"
    }
   ],
   "source": [
    "df.shape"
   ]
  },
  {
   "cell_type": "markdown",
   "metadata": {},
   "source": [
    "# Analisando as colunas"
   ]
  },
  {
   "cell_type": "markdown",
   "metadata": {},
   "source": [
    "## Categoricas"
   ]
  },
  {
   "cell_type": "code",
   "execution_count": 353,
   "metadata": {},
   "outputs": [],
   "source": [
    "categoricas = df.select_dtypes(include='object').columns"
   ]
  },
  {
   "cell_type": "code",
   "execution_count": 354,
   "metadata": {},
   "outputs": [
    {
     "data": {
      "text/plain": [
       "Sex\n",
       "M    725\n",
       "F    193\n",
       "Name: count, dtype: int64"
      ]
     },
     "metadata": {},
     "output_type": "display_data"
    },
    {
     "data": {
      "text/plain": [
       "ChestPainType\n",
       "ASY    496\n",
       "NAP    203\n",
       "ATA    173\n",
       "TA      46\n",
       "Name: count, dtype: int64"
      ]
     },
     "metadata": {},
     "output_type": "display_data"
    },
    {
     "data": {
      "text/plain": [
       "RestingECG\n",
       "Normal    552\n",
       "LVH       188\n",
       "ST        178\n",
       "Name: count, dtype: int64"
      ]
     },
     "metadata": {},
     "output_type": "display_data"
    },
    {
     "data": {
      "text/plain": [
       "ExerciseAngina\n",
       "N    547\n",
       "Y    371\n",
       "Name: count, dtype: int64"
      ]
     },
     "metadata": {},
     "output_type": "display_data"
    },
    {
     "data": {
      "text/plain": [
       "ST_Slope\n",
       "Flat    460\n",
       "Up      395\n",
       "Down     63\n",
       "Name: count, dtype: int64"
      ]
     },
     "metadata": {},
     "output_type": "display_data"
    }
   ],
   "source": [
    "for i in categoricas:\n",
    "    display(df[i].value_counts())"
   ]
  },
  {
   "cell_type": "code",
   "execution_count": 355,
   "metadata": {},
   "outputs": [
    {
     "data": {
      "image/png": "[encoded data removed]",
      "text/plain": [
       "<Figure size 1500x3500 with 5 Axes>"
      ]
     },
     "metadata": {},
     "output_type": "display_data"
    }
   ],
   "source": [
    "num_cols=3\n",
    "num_rows = (len(categoricas) + num_cols-1)\n",
    "\n",
    "fig,ax = plt.subplots(num_rows, num_cols, figsize=(15,5 * num_rows))\n",
    "ax = ax.flatten()\n",
    "\n",
    "for i, col in enumerate(categoricas):\n",
    "    sns.countplot(df, x=col, ax=ax[i])\n",
    "    ax[i].set_title(f'Contagem de {col}', fontsize='14')\n",
    "    \n",
    "for i in range(len(categoricas), len(ax)):\n",
    "    fig.delaxes(ax[i])\n",
    "\n",
    "plt.tight_layout()\n",
    "plt.show()"
   ]
  },
  {
   "cell_type": "markdown",
   "metadata": {},
   "source": [
    "## Numericas"
   ]
  },
  {
   "cell_type": "code",
   "execution_count": 356,
   "metadata": {},
   "outputs": [],
   "source": [
    "numericas = df.drop('HeartDisease',axis=1).select_dtypes(include='number').columns"
   ]
  },
  {
   "cell_type": "code",
   "execution_count": 357,
   "metadata": {},
   "outputs": [
    {
     "data": {
      "text/plain": [
       "Age\n",
       "28     1\n",
       "29     3\n",
       "30     1\n",
       "31     2\n",
       "32     5\n",
       "33     2\n",
       "34     7\n",
       "35    11\n",
       "36     6\n",
       "37    11\n",
       "38    16\n",
       "39    15\n",
       "40    13\n",
       "41    24\n",
       "42    18\n",
       "43    24\n",
       "44    19\n",
       "45    18\n",
       "46    24\n",
       "47    19\n",
       "48    31\n",
       "49    21\n",
       "50    25\n",
       "51    35\n",
       "52    36\n",
       "53    33\n",
       "54    51\n",
       "55    41\n",
       "56    38\n",
       "57    38\n",
       "58    42\n",
       "59    35\n",
       "60    32\n",
       "61    31\n",
       "62    35\n",
       "63    30\n",
       "64    22\n",
       "65    21\n",
       "66    13\n",
       "67    15\n",
       "68    10\n",
       "69    13\n",
       "70     7\n",
       "71     5\n",
       "72     4\n",
       "73     1\n",
       "74     7\n",
       "75     3\n",
       "76     2\n",
       "77     2\n",
       "Name: count, dtype: int64"
      ]
     },
     "metadata": {},
     "output_type": "display_data"
    },
    {
     "data": {
      "text/plain": [
       "RestingBP\n",
       "0       1\n",
       "80      1\n",
       "92      1\n",
       "94      2\n",
       "95      6\n",
       "       ..\n",
       "180    12\n",
       "185     1\n",
       "190     2\n",
       "192     1\n",
       "200     4\n",
       "Name: count, Length: 67, dtype: int64"
      ]
     },
     "metadata": {},
     "output_type": "display_data"
    },
    {
     "data": {
      "text/plain": [
       "Cholesterol\n",
       "0      172\n",
       "85       1\n",
       "100      2\n",
       "110      1\n",
       "113      1\n",
       "      ... \n",
       "491      1\n",
       "518      1\n",
       "529      1\n",
       "564      1\n",
       "603      1\n",
       "Name: count, Length: 222, dtype: int64"
      ]
     },
     "metadata": {},
     "output_type": "display_data"
    },
    {
     "data": {
      "text/plain": [
       "FastingBS\n",
       "0    704\n",
       "1    214\n",
       "Name: count, dtype: int64"
      ]
     },
     "metadata": {},
     "output_type": "display_data"
    },
    {
     "data": {
      "text/plain": [
       "MaxHR\n",
       "60     1\n",
       "63     1\n",
       "67     1\n",
       "69     1\n",
       "70     1\n",
       "      ..\n",
       "190    2\n",
       "192    1\n",
       "194    1\n",
       "195    1\n",
       "202    1\n",
       "Name: count, Length: 119, dtype: int64"
      ]
     },
     "metadata": {},
     "output_type": "display_data"
    },
    {
     "data": {
      "text/plain": [
       "Oldpeak\n",
       "-2.6      1\n",
       "-2.0      1\n",
       "-1.5      1\n",
       "-1.1      1\n",
       "-1.0      2\n",
       "-0.9      1\n",
       "-0.8      1\n",
       "-0.7      1\n",
       "-0.5      2\n",
       "-0.1      2\n",
       " 0.0    368\n",
       " 0.1     14\n",
       " 0.2     22\n",
       " 0.3     11\n",
       " 0.4     11\n",
       " 0.5     19\n",
       " 0.6     14\n",
       " 0.7      7\n",
       " 0.8     16\n",
       " 0.9      4\n",
       " 1.0     86\n",
       " 1.1      7\n",
       " 1.2     26\n",
       " 1.3      7\n",
       " 1.4     18\n",
       " 1.5     53\n",
       " 1.6     16\n",
       " 1.7      6\n",
       " 1.8     17\n",
       " 1.9      7\n",
       " 2.0     76\n",
       " 2.1      2\n",
       " 2.2      5\n",
       " 2.3      2\n",
       " 2.4      4\n",
       " 2.5     16\n",
       " 2.6      7\n",
       " 2.8      7\n",
       " 2.9      1\n",
       " 3.0     28\n",
       " 3.1      1\n",
       " 3.2      2\n",
       " 3.4      3\n",
       " 3.5      2\n",
       " 3.6      4\n",
       " 3.7      1\n",
       " 3.8      1\n",
       " 4.0      8\n",
       " 4.2      2\n",
       " 4.4      1\n",
       " 5.0      1\n",
       " 5.6      1\n",
       " 6.2      1\n",
       "Name: count, dtype: int64"
      ]
     },
     "metadata": {},
     "output_type": "display_data"
    }
   ],
   "source": [
    "for i in numericas:\n",
    "    display(df[i].value_counts().sort_index())"
   ]
  },
  {
   "cell_type": "code",
   "execution_count": 358,
   "metadata": {},
   "outputs": [
    {
     "data": {
      "image/png": "[encoded data removed]",
      "text/plain": [
       "<Figure size 1500x4000 with 6 Axes>"
      ]
     },
     "metadata": {},
     "output_type": "display_data"
    }
   ],
   "source": [
    "num_cols=3\n",
    "num_rows = (len(numericas)+num_cols-1)\n",
    "\n",
    "fig, ax = plt.subplots(nrows=num_rows, ncols=num_cols, figsize=(15, 5 * num_rows))\n",
    "ax = ax.flatten()\n",
    "\n",
    "for i, col in enumerate(numericas):\n",
    "    sns.histplot(data=df, x=col, bins=40, kde=True, stat='count', ax=ax[i])\n",
    "    ax[i].set_title(f'Histograma de {col}', fontsize=14)\n",
    "\n",
    "for i in range(len(numericas), len(ax)):\n",
    "    fig.delaxes(ax[i])\n",
    "\n",
    "plt.tight_layout()\n",
    "plt.show()"
   ]
  },
  {
   "cell_type": "markdown",
   "metadata": {},
   "source": [
    "## Coluna Target"
   ]
  },
  {
   "cell_type": "code",
   "execution_count": 359,
   "metadata": {},
   "outputs": [
    {
     "data": {
      "image/png": "[encoded data removed]",
      "text/plain": [
       "<Figure size 1500x800 with 1 Axes>"
      ]
     },
     "metadata": {},
     "output_type": "display_data"
    }
   ],
   "source": [
    "plt.figure(figsize=(15,8))\n",
    "\n",
    "sns.countplot(df, x='HeartDisease')\n",
    "plt.title('Contagem de doenças no Coração', fontsize=16)\n",
    "\n",
    "plt.show()"
   ]
  },
  {
   "cell_type": "markdown",
   "metadata": {},
   "source": [
    "## Tratamento de Inconsistências nos Dados\n",
    "\n",
    "Durante a análise dos dados, foram identificadas algumas incoerências que precisam ser tratadas antes de prosseguir com a modelagem:\n",
    "\n",
    "1. **Pressão Arterial (RestingBP) igual a 0:**\n",
    "    Este valor é incoerente, pois a pressão arterial não pode ser igual a 0. Portanto, vamos excluir essas linhas do dataset.\n",
    "2. **Colesterol igual a 0:**\n",
    "    O colesterol igual a 0 também é um valor inválido. Como existem muitos registros com esse valor, vamos substituí-los pela média da coluna Cholesterol, calculada sem considerar os valores 0.\n"
   ]
  },
  {
   "cell_type": "code",
   "execution_count": 360,
   "metadata": {},
   "outputs": [],
   "source": [
    "df = df.loc[df.RestingBP !=0]\n",
    "\n",
    "df.Cholesterol = df.Cholesterol.replace(0, np.NaN)\n",
    "\n",
    "df.loc[df.Cholesterol.isnull(), 'Cholesterol'] = df.Cholesterol.mean()"
   ]
  },
  {
   "cell_type": "markdown",
   "metadata": {},
   "source": [
    "#### Plotando novamente as colunas alteradas:"
   ]
  },
  {
   "cell_type": "code",
   "execution_count": 361,
   "metadata": {},
   "outputs": [
    {
     "data": {
      "image/png": "[encoded data removed]",
      "text/plain": [
       "<Figure size 1500x500 with 2 Axes>"
      ]
     },
     "metadata": {},
     "output_type": "display_data"
    }
   ],
   "source": [
    "colunas = ['RestingBP', 'Cholesterol']\n",
    "fig, ax = plt.subplots(1,2,figsize=(15,5))\n",
    "\n",
    "for i, col in enumerate(colunas):\n",
    "    sns.histplot(df, x=col, bins=40, kde=True, stat='count', ax=ax[i])\n",
    "    ax[i].set_title(f'Histograma da {col}')\n",
    "\n",
    "plt.tight_layout()\n",
    "plt.show()"
   ]
  },
  {
   "cell_type": "markdown",
   "metadata": {},
   "source": [
    "## Análise estatística"
   ]
  },
  {
   "cell_type": "code",
   "execution_count": 362,
   "metadata": {},
   "outputs": [
    {
     "data": {
      "text/html": [
       "<div>\n",
       "<style scoped>\n",
       "    .dataframe tbody tr th:only-of-type {\n",
       "        vertical-align: middle;\n",
       "    }\n",
       "\n",
       "    .dataframe tbody tr th {\n",
       "        vertical-align: top;\n",
       "    }\n",
       "\n",
       "    .dataframe thead th {\n",
       "        text-align: right;\n",
       "    }\n",
       "</style>\n",
       "<table border=\"1\" class=\"dataframe\">\n",
       "  <thead>\n",
       "    <tr style=\"text-align: right;\">\n",
       "      <th></th>\n",
       "      <th>Age</th>\n",
       "      <th>RestingBP</th>\n",
       "      <th>Cholesterol</th>\n",
       "      <th>FastingBS</th>\n",
       "      <th>MaxHR</th>\n",
       "      <th>Oldpeak</th>\n",
       "      <th>HeartDisease</th>\n",
       "    </tr>\n",
       "  </thead>\n",
       "  <tbody>\n",
       "    <tr>\n",
       "      <th>count</th>\n",
       "      <td>917.000000</td>\n",
       "      <td>917.000000</td>\n",
       "      <td>917.000000</td>\n",
       "      <td>917.000000</td>\n",
       "      <td>917.000000</td>\n",
       "      <td>917.000000</td>\n",
       "      <td>917.000000</td>\n",
       "    </tr>\n",
       "    <tr>\n",
       "      <th>mean</th>\n",
       "      <td>53.509269</td>\n",
       "      <td>132.540894</td>\n",
       "      <td>244.635389</td>\n",
       "      <td>0.233370</td>\n",
       "      <td>136.789531</td>\n",
       "      <td>0.886696</td>\n",
       "      <td>0.552890</td>\n",
       "    </tr>\n",
       "    <tr>\n",
       "      <th>std</th>\n",
       "      <td>9.437636</td>\n",
       "      <td>17.999749</td>\n",
       "      <td>53.347125</td>\n",
       "      <td>0.423206</td>\n",
       "      <td>25.467129</td>\n",
       "      <td>1.066960</td>\n",
       "      <td>0.497466</td>\n",
       "    </tr>\n",
       "    <tr>\n",
       "      <th>min</th>\n",
       "      <td>28.000000</td>\n",
       "      <td>80.000000</td>\n",
       "      <td>85.000000</td>\n",
       "      <td>0.000000</td>\n",
       "      <td>60.000000</td>\n",
       "      <td>-2.600000</td>\n",
       "      <td>0.000000</td>\n",
       "    </tr>\n",
       "    <tr>\n",
       "      <th>25%</th>\n",
       "      <td>47.000000</td>\n",
       "      <td>120.000000</td>\n",
       "      <td>214.000000</td>\n",
       "      <td>0.000000</td>\n",
       "      <td>120.000000</td>\n",
       "      <td>0.000000</td>\n",
       "      <td>0.000000</td>\n",
       "    </tr>\n",
       "    <tr>\n",
       "      <th>50%</th>\n",
       "      <td>54.000000</td>\n",
       "      <td>130.000000</td>\n",
       "      <td>244.635389</td>\n",
       "      <td>0.000000</td>\n",
       "      <td>138.000000</td>\n",
       "      <td>0.600000</td>\n",
       "      <td>1.000000</td>\n",
       "    </tr>\n",
       "    <tr>\n",
       "      <th>75%</th>\n",
       "      <td>60.000000</td>\n",
       "      <td>140.000000</td>\n",
       "      <td>267.000000</td>\n",
       "      <td>0.000000</td>\n",
       "      <td>156.000000</td>\n",
       "      <td>1.500000</td>\n",
       "      <td>1.000000</td>\n",
       "    </tr>\n",
       "    <tr>\n",
       "      <th>max</th>\n",
       "      <td>77.000000</td>\n",
       "      <td>200.000000</td>\n",
       "      <td>603.000000</td>\n",
       "      <td>1.000000</td>\n",
       "      <td>202.000000</td>\n",
       "      <td>6.200000</td>\n",
       "      <td>1.000000</td>\n",
       "    </tr>\n",
       "  </tbody>\n",
       "</table>\n",
       "</div>"
      ],
      "text/plain": [
       "              Age   RestingBP  Cholesterol   FastingBS       MaxHR  \\\n",
       "count  917.000000  917.000000   917.000000  917.000000  917.000000   \n",
       "mean    53.509269  132.540894   244.635389    0.233370  136.789531   \n",
       "std      9.437636   17.999749    53.347125    0.423206   25.467129   \n",
       "min     28.000000   80.000000    85.000000    0.000000   60.000000   \n",
       "25%     47.000000  120.000000   214.000000    0.000000  120.000000   \n",
       "50%     54.000000  130.000000   244.635389    0.000000  138.000000   \n",
       "75%     60.000000  140.000000   267.000000    0.000000  156.000000   \n",
       "max     77.000000  200.000000   603.000000    1.000000  202.000000   \n",
       "\n",
       "          Oldpeak  HeartDisease  \n",
       "count  917.000000    917.000000  \n",
       "mean     0.886696      0.552890  \n",
       "std      1.066960      0.497466  \n",
       "min     -2.600000      0.000000  \n",
       "25%      0.000000      0.000000  \n",
       "50%      0.600000      1.000000  \n",
       "75%      1.500000      1.000000  \n",
       "max      6.200000      1.000000  "
      ]
     },
     "execution_count": 362,
     "metadata": {},
     "output_type": "execute_result"
    }
   ],
   "source": [
    "df.describe()"
   ]
  },
  {
   "cell_type": "code",
   "execution_count": 363,
   "metadata": {},
   "outputs": [
    {
     "data": {
      "image/png": "[encoded data removed]",
      "text/plain": [
       "<Figure size 1500x4000 with 6 Axes>"
      ]
     },
     "metadata": {},
     "output_type": "display_data"
    }
   ],
   "source": [
    "num_cols = 3\n",
    "num_rows = (len(numericas) + num_cols-1)\n",
    "\n",
    "fig, ax = plt.subplots(num_rows, num_cols, figsize=(15, 5*num_rows))\n",
    "ax = ax.flatten()\n",
    "\n",
    "for i, col in enumerate(numericas):\n",
    "    sns.boxplot(df, y=col, showmeans=True, ax=ax[i])\n",
    "    ax[i].set_title(f'Descrições da {col}',fontsize=14)\n",
    "    \n",
    "for i in range(len(numericas), len(ax)):\n",
    "    fig.delaxes(ax[i])\n",
    "\n",
    "plt.tight_layout()\n",
    "plt.show()"
   ]
  },
  {
   "cell_type": "markdown",
   "metadata": {},
   "source": [
    "# Pré-Processamento dos dados"
   ]
  },
  {
   "cell_type": "markdown",
   "metadata": {},
   "source": [
    "## Tansformando as variáveis categóricas em numéricas"
   ]
  },
  {
   "cell_type": "code",
   "execution_count": 364,
   "metadata": {},
   "outputs": [],
   "source": [
    "from sklearn.preprocessing import LabelEncoder\n",
    "lbe = LabelEncoder()\n",
    " \n",
    "df['Sex'] = lbe.fit_transform(df['Sex'])\n",
    "df['ChestPainType'] = lbe.fit_transform(df['ChestPainType'])\n",
    "df['RestingECG'] = lbe.fit_transform(df['RestingECG'])\n",
    "df['ExerciseAngina'] = lbe.fit_transform(df['ExerciseAngina'])\n",
    "df['ST_Slope'] = lbe.fit_transform(df['ST_Slope'])"
   ]
  },
  {
   "cell_type": "markdown",
   "metadata": {},
   "source": [
    "## Separação de Variáveis (Previsores e Alvo)"
   ]
  },
  {
   "cell_type": "code",
   "execution_count": 365,
   "metadata": {},
   "outputs": [
    {
     "data": {
      "text/plain": [
       "(917, 11)"
      ]
     },
     "execution_count": 365,
     "metadata": {},
     "output_type": "execute_result"
    }
   ],
   "source": [
    "previsores = df.drop(\"HeartDisease\", axis=1)\n",
    "previsores.shape"
   ]
  },
  {
   "cell_type": "code",
   "execution_count": 366,
   "metadata": {},
   "outputs": [
    {
     "data": {
      "text/plain": [
       "(917, 1)"
      ]
     },
     "execution_count": 366,
     "metadata": {},
     "output_type": "execute_result"
    }
   ],
   "source": [
    "target = df['HeartDisease']\n",
    "\n",
    "target = pd.DataFrame(target)\n",
    "\n",
    "target.shape"
   ]
  },
  {
   "cell_type": "markdown",
   "metadata": {},
   "source": [
    "## Escalonamento dos Dados"
   ]
  },
  {
   "cell_type": "code",
   "execution_count": 367,
   "metadata": {},
   "outputs": [
    {
     "data": {
      "text/html": [
       "<div>\n",
       "<style scoped>\n",
       "    .dataframe tbody tr th:only-of-type {\n",
       "        vertical-align: middle;\n",
       "    }\n",
       "\n",
       "    .dataframe tbody tr th {\n",
       "        vertical-align: top;\n",
       "    }\n",
       "\n",
       "    .dataframe thead th {\n",
       "        text-align: right;\n",
       "    }\n",
       "</style>\n",
       "<table border=\"1\" class=\"dataframe\">\n",
       "  <thead>\n",
       "    <tr style=\"text-align: right;\">\n",
       "      <th></th>\n",
       "      <th>Age</th>\n",
       "      <th>Sex</th>\n",
       "      <th>ChestPainType</th>\n",
       "      <th>RestingBP</th>\n",
       "      <th>Cholesterol</th>\n",
       "      <th>FastingBS</th>\n",
       "      <th>RestingECG</th>\n",
       "      <th>MaxHR</th>\n",
       "      <th>ExerciseAngina</th>\n",
       "      <th>Oldpeak</th>\n",
       "      <th>ST_Slope</th>\n",
       "      <th>HeartDisease</th>\n",
       "    </tr>\n",
       "  </thead>\n",
       "  <tbody>\n",
       "    <tr>\n",
       "      <th>count</th>\n",
       "      <td>917.000000</td>\n",
       "      <td>917.000000</td>\n",
       "      <td>917.000000</td>\n",
       "      <td>917.000000</td>\n",
       "      <td>917.000000</td>\n",
       "      <td>917.000000</td>\n",
       "      <td>917.000000</td>\n",
       "      <td>917.000000</td>\n",
       "      <td>917.000000</td>\n",
       "      <td>917.000000</td>\n",
       "      <td>917.00000</td>\n",
       "      <td>917.000000</td>\n",
       "    </tr>\n",
       "    <tr>\n",
       "      <th>mean</th>\n",
       "      <td>53.509269</td>\n",
       "      <td>0.789531</td>\n",
       "      <td>0.779716</td>\n",
       "      <td>132.540894</td>\n",
       "      <td>244.635389</td>\n",
       "      <td>0.233370</td>\n",
       "      <td>0.989095</td>\n",
       "      <td>136.789531</td>\n",
       "      <td>0.404580</td>\n",
       "      <td>0.886696</td>\n",
       "      <td>1.36205</td>\n",
       "      <td>0.552890</td>\n",
       "    </tr>\n",
       "    <tr>\n",
       "      <th>std</th>\n",
       "      <td>9.437636</td>\n",
       "      <td>0.407864</td>\n",
       "      <td>0.956193</td>\n",
       "      <td>17.999749</td>\n",
       "      <td>53.347125</td>\n",
       "      <td>0.423206</td>\n",
       "      <td>0.632016</td>\n",
       "      <td>25.467129</td>\n",
       "      <td>0.491078</td>\n",
       "      <td>1.066960</td>\n",
       "      <td>0.60727</td>\n",
       "      <td>0.497466</td>\n",
       "    </tr>\n",
       "    <tr>\n",
       "      <th>min</th>\n",
       "      <td>28.000000</td>\n",
       "      <td>0.000000</td>\n",
       "      <td>0.000000</td>\n",
       "      <td>80.000000</td>\n",
       "      <td>85.000000</td>\n",
       "      <td>0.000000</td>\n",
       "      <td>0.000000</td>\n",
       "      <td>60.000000</td>\n",
       "      <td>0.000000</td>\n",
       "      <td>-2.600000</td>\n",
       "      <td>0.00000</td>\n",
       "      <td>0.000000</td>\n",
       "    </tr>\n",
       "    <tr>\n",
       "      <th>25%</th>\n",
       "      <td>47.000000</td>\n",
       "      <td>1.000000</td>\n",
       "      <td>0.000000</td>\n",
       "      <td>120.000000</td>\n",
       "      <td>214.000000</td>\n",
       "      <td>0.000000</td>\n",
       "      <td>1.000000</td>\n",
       "      <td>120.000000</td>\n",
       "      <td>0.000000</td>\n",
       "      <td>0.000000</td>\n",
       "      <td>1.00000</td>\n",
       "      <td>0.000000</td>\n",
       "    </tr>\n",
       "    <tr>\n",
       "      <th>50%</th>\n",
       "      <td>54.000000</td>\n",
       "      <td>1.000000</td>\n",
       "      <td>0.000000</td>\n",
       "      <td>130.000000</td>\n",
       "      <td>244.635389</td>\n",
       "      <td>0.000000</td>\n",
       "      <td>1.000000</td>\n",
       "      <td>138.000000</td>\n",
       "      <td>0.000000</td>\n",
       "      <td>0.600000</td>\n",
       "      <td>1.00000</td>\n",
       "      <td>1.000000</td>\n",
       "    </tr>\n",
       "    <tr>\n",
       "      <th>75%</th>\n",
       "      <td>60.000000</td>\n",
       "      <td>1.000000</td>\n",
       "      <td>2.000000</td>\n",
       "      <td>140.000000</td>\n",
       "      <td>267.000000</td>\n",
       "      <td>0.000000</td>\n",
       "      <td>1.000000</td>\n",
       "      <td>156.000000</td>\n",
       "      <td>1.000000</td>\n",
       "      <td>1.500000</td>\n",
       "      <td>2.00000</td>\n",
       "      <td>1.000000</td>\n",
       "    </tr>\n",
       "    <tr>\n",
       "      <th>max</th>\n",
       "      <td>77.000000</td>\n",
       "      <td>1.000000</td>\n",
       "      <td>3.000000</td>\n",
       "      <td>200.000000</td>\n",
       "      <td>603.000000</td>\n",
       "      <td>1.000000</td>\n",
       "      <td>2.000000</td>\n",
       "      <td>202.000000</td>\n",
       "      <td>1.000000</td>\n",
       "      <td>6.200000</td>\n",
       "      <td>2.00000</td>\n",
       "      <td>1.000000</td>\n",
       "    </tr>\n",
       "  </tbody>\n",
       "</table>\n",
       "</div>"
      ],
      "text/plain": [
       "              Age         Sex  ChestPainType   RestingBP  Cholesterol  \\\n",
       "count  917.000000  917.000000     917.000000  917.000000   917.000000   \n",
       "mean    53.509269    0.789531       0.779716  132.540894   244.635389   \n",
       "std      9.437636    0.407864       0.956193   17.999749    53.347125   \n",
       "min     28.000000    0.000000       0.000000   80.000000    85.000000   \n",
       "25%     47.000000    1.000000       0.000000  120.000000   214.000000   \n",
       "50%     54.000000    1.000000       0.000000  130.000000   244.635389   \n",
       "75%     60.000000    1.000000       2.000000  140.000000   267.000000   \n",
       "max     77.000000    1.000000       3.000000  200.000000   603.000000   \n",
       "\n",
       "        FastingBS  RestingECG       MaxHR  ExerciseAngina     Oldpeak  \\\n",
       "count  917.000000  917.000000  917.000000      917.000000  917.000000   \n",
       "mean     0.233370    0.989095  136.789531        0.404580    0.886696   \n",
       "std      0.423206    0.632016   25.467129        0.491078    1.066960   \n",
       "min      0.000000    0.000000   60.000000        0.000000   -2.600000   \n",
       "25%      0.000000    1.000000  120.000000        0.000000    0.000000   \n",
       "50%      0.000000    1.000000  138.000000        0.000000    0.600000   \n",
       "75%      0.000000    1.000000  156.000000        1.000000    1.500000   \n",
       "max      1.000000    2.000000  202.000000        1.000000    6.200000   \n",
       "\n",
       "        ST_Slope  HeartDisease  \n",
       "count  917.00000    917.000000  \n",
       "mean     1.36205      0.552890  \n",
       "std      0.60727      0.497466  \n",
       "min      0.00000      0.000000  \n",
       "25%      1.00000      0.000000  \n",
       "50%      1.00000      1.000000  \n",
       "75%      2.00000      1.000000  \n",
       "max      2.00000      1.000000  "
      ]
     },
     "execution_count": 367,
     "metadata": {},
     "output_type": "execute_result"
    }
   ],
   "source": [
    "df.describe()"
   ]
  },
  {
   "cell_type": "markdown",
   "metadata": {},
   "source": [
    "#### Durante a análise dos dados, foram identificadas algumas incoerências que precisam ser tratadas:\n",
    "\n",
    "1. **Pressão Arterial (RestingBP) igual a 0:**  \n",
    "   Esses valores foram excluídos do dataset.\n",
    "\n",
    "2. **Colesterol (Cholesterol) igual a 0:**  \n",
    "   Os valores de colesterol igual a 0 foram substituídos pela média dos valores não nulos.\n",
    "\n",
    "Além disso, após a transformação das variáveis categóricas em numéricas, foi observada uma grande diferença de escalas entre as variáveis. Para resolver esse problema, optamos pela **padronização** dos dados, utilizando o desvio padrão como referência. A padronização é indicada quando as variáveis seguem uma distribuição aproximadamente normal e ajuda a melhorar o desempenho de algoritmos de aprendizado de máquina."
   ]
  },
  {
   "cell_type": "code",
   "execution_count": 368,
   "metadata": {},
   "outputs": [],
   "source": [
    "from sklearn.preprocessing import StandardScaler"
   ]
  },
  {
   "cell_type": "code",
   "execution_count": 369,
   "metadata": {},
   "outputs": [],
   "source": [
    "previsores_esc = StandardScaler().fit_transform(previsores)"
   ]
  },
  {
   "cell_type": "code",
   "execution_count": 370,
   "metadata": {},
   "outputs": [
    {
     "data": {
      "text/plain": [
       "(917, 11)"
      ]
     },
     "execution_count": 370,
     "metadata": {},
     "output_type": "execute_result"
    }
   ],
   "source": [
    "df_previsores = pd.DataFrame(previsores_esc)\n",
    "df_previsores.shape"
   ]
  },
  {
   "cell_type": "code",
   "execution_count": 371,
   "metadata": {},
   "outputs": [
    {
     "data": {
      "text/html": [
       "<div>\n",
       "<style scoped>\n",
       "    .dataframe tbody tr th:only-of-type {\n",
       "        vertical-align: middle;\n",
       "    }\n",
       "\n",
       "    .dataframe tbody tr th {\n",
       "        vertical-align: top;\n",
       "    }\n",
       "\n",
       "    .dataframe thead th {\n",
       "        text-align: right;\n",
       "    }\n",
       "</style>\n",
       "<table border=\"1\" class=\"dataframe\">\n",
       "  <thead>\n",
       "    <tr style=\"text-align: right;\">\n",
       "      <th></th>\n",
       "      <th>0</th>\n",
       "      <th>1</th>\n",
       "      <th>2</th>\n",
       "      <th>3</th>\n",
       "      <th>4</th>\n",
       "      <th>5</th>\n",
       "      <th>6</th>\n",
       "      <th>7</th>\n",
       "      <th>8</th>\n",
       "      <th>9</th>\n",
       "      <th>10</th>\n",
       "    </tr>\n",
       "  </thead>\n",
       "  <tbody>\n",
       "    <tr>\n",
       "      <th>count</th>\n",
       "      <td>9.170000e+02</td>\n",
       "      <td>9.170000e+02</td>\n",
       "      <td>9.170000e+02</td>\n",
       "      <td>9.170000e+02</td>\n",
       "      <td>9.170000e+02</td>\n",
       "      <td>9.170000e+02</td>\n",
       "      <td>9.170000e+02</td>\n",
       "      <td>9.170000e+02</td>\n",
       "      <td>9.170000e+02</td>\n",
       "      <td>9.170000e+02</td>\n",
       "      <td>9.170000e+02</td>\n",
       "    </tr>\n",
       "    <tr>\n",
       "      <th>mean</th>\n",
       "      <td>1.859654e-16</td>\n",
       "      <td>-7.748558e-17</td>\n",
       "      <td>7.748558e-18</td>\n",
       "      <td>7.767929e-16</td>\n",
       "      <td>-1.869340e-16</td>\n",
       "      <td>4.649135e-17</td>\n",
       "      <td>-6.198846e-17</td>\n",
       "      <td>-5.114048e-16</td>\n",
       "      <td>-1.046055e-16</td>\n",
       "      <td>7.748558e-17</td>\n",
       "      <td>3.874279e-17</td>\n",
       "    </tr>\n",
       "    <tr>\n",
       "      <th>std</th>\n",
       "      <td>1.000546e+00</td>\n",
       "      <td>1.000546e+00</td>\n",
       "      <td>1.000546e+00</td>\n",
       "      <td>1.000546e+00</td>\n",
       "      <td>1.000546e+00</td>\n",
       "      <td>1.000546e+00</td>\n",
       "      <td>1.000546e+00</td>\n",
       "      <td>1.000546e+00</td>\n",
       "      <td>1.000546e+00</td>\n",
       "      <td>1.000546e+00</td>\n",
       "      <td>1.000546e+00</td>\n",
       "    </tr>\n",
       "    <tr>\n",
       "      <th>min</th>\n",
       "      <td>-2.704405e+00</td>\n",
       "      <td>-1.936826e+00</td>\n",
       "      <td>-8.158837e-01</td>\n",
       "      <td>-2.920572e+00</td>\n",
       "      <td>-2.994023e+00</td>\n",
       "      <td>-5.517333e-01</td>\n",
       "      <td>-1.565838e+00</td>\n",
       "      <td>-3.016886e+00</td>\n",
       "      <td>-8.243101e-01</td>\n",
       "      <td>-3.269662e+00</td>\n",
       "      <td>-2.244132e+00</td>\n",
       "    </tr>\n",
       "    <tr>\n",
       "      <th>25%</th>\n",
       "      <td>-6.900904e-01</td>\n",
       "      <td>5.163086e-01</td>\n",
       "      <td>-8.158837e-01</td>\n",
       "      <td>-6.971063e-01</td>\n",
       "      <td>-5.745784e-01</td>\n",
       "      <td>-5.517333e-01</td>\n",
       "      <td>1.726392e-02</td>\n",
       "      <td>-6.596226e-01</td>\n",
       "      <td>-8.243101e-01</td>\n",
       "      <td>-8.315022e-01</td>\n",
       "      <td>-5.965186e-01</td>\n",
       "    </tr>\n",
       "    <tr>\n",
       "      <th>50%</th>\n",
       "      <td>5.202558e-02</td>\n",
       "      <td>5.163086e-01</td>\n",
       "      <td>-8.158837e-01</td>\n",
       "      <td>-1.412398e-01</td>\n",
       "      <td>0.000000e+00</td>\n",
       "      <td>-5.517333e-01</td>\n",
       "      <td>1.726392e-02</td>\n",
       "      <td>4.755658e-02</td>\n",
       "      <td>-8.243101e-01</td>\n",
       "      <td>-2.688500e-01</td>\n",
       "      <td>-5.965186e-01</td>\n",
       "    </tr>\n",
       "    <tr>\n",
       "      <th>75%</th>\n",
       "      <td>6.881250e-01</td>\n",
       "      <td>5.163086e-01</td>\n",
       "      <td>1.276887e+00</td>\n",
       "      <td>4.146267e-01</td>\n",
       "      <td>4.194568e-01</td>\n",
       "      <td>-5.517333e-01</td>\n",
       "      <td>1.726392e-02</td>\n",
       "      <td>7.547357e-01</td>\n",
       "      <td>1.213136e+00</td>\n",
       "      <td>5.751284e-01</td>\n",
       "      <td>1.051095e+00</td>\n",
       "    </tr>\n",
       "    <tr>\n",
       "      <th>max</th>\n",
       "      <td>2.490407e+00</td>\n",
       "      <td>5.163086e-01</td>\n",
       "      <td>2.323272e+00</td>\n",
       "      <td>3.749826e+00</td>\n",
       "      <td>6.721265e+00</td>\n",
       "      <td>1.812470e+00</td>\n",
       "      <td>1.600366e+00</td>\n",
       "      <td>2.561971e+00</td>\n",
       "      <td>1.213136e+00</td>\n",
       "      <td>4.982571e+00</td>\n",
       "      <td>1.051095e+00</td>\n",
       "    </tr>\n",
       "  </tbody>\n",
       "</table>\n",
       "</div>"
      ],
      "text/plain": [
       "                 0             1             2             3             4   \\\n",
       "count  9.170000e+02  9.170000e+02  9.170000e+02  9.170000e+02  9.170000e+02   \n",
       "mean   1.859654e-16 -7.748558e-17  7.748558e-18  7.767929e-16 -1.869340e-16   \n",
       "std    1.000546e+00  1.000546e+00  1.000546e+00  1.000546e+00  1.000546e+00   \n",
       "min   -2.704405e+00 -1.936826e+00 -8.158837e-01 -2.920572e+00 -2.994023e+00   \n",
       "25%   -6.900904e-01  5.163086e-01 -8.158837e-01 -6.971063e-01 -5.745784e-01   \n",
       "50%    5.202558e-02  5.163086e-01 -8.158837e-01 -1.412398e-01  0.000000e+00   \n",
       "75%    6.881250e-01  5.163086e-01  1.276887e+00  4.146267e-01  4.194568e-01   \n",
       "max    2.490407e+00  5.163086e-01  2.323272e+00  3.749826e+00  6.721265e+00   \n",
       "\n",
       "                 5             6             7             8             9   \\\n",
       "count  9.170000e+02  9.170000e+02  9.170000e+02  9.170000e+02  9.170000e+02   \n",
       "mean   4.649135e-17 -6.198846e-17 -5.114048e-16 -1.046055e-16  7.748558e-17   \n",
       "std    1.000546e+00  1.000546e+00  1.000546e+00  1.000546e+00  1.000546e+00   \n",
       "min   -5.517333e-01 -1.565838e+00 -3.016886e+00 -8.243101e-01 -3.269662e+00   \n",
       "25%   -5.517333e-01  1.726392e-02 -6.596226e-01 -8.243101e-01 -8.315022e-01   \n",
       "50%   -5.517333e-01  1.726392e-02  4.755658e-02 -8.243101e-01 -2.688500e-01   \n",
       "75%   -5.517333e-01  1.726392e-02  7.547357e-01  1.213136e+00  5.751284e-01   \n",
       "max    1.812470e+00  1.600366e+00  2.561971e+00  1.213136e+00  4.982571e+00   \n",
       "\n",
       "                 10  \n",
       "count  9.170000e+02  \n",
       "mean   3.874279e-17  \n",
       "std    1.000546e+00  \n",
       "min   -2.244132e+00  \n",
       "25%   -5.965186e-01  \n",
       "50%   -5.965186e-01  \n",
       "75%    1.051095e+00  \n",
       "max    1.051095e+00  "
      ]
     },
     "execution_count": 371,
     "metadata": {},
     "output_type": "execute_result"
    }
   ],
   "source": [
    "df_previsores.describe()"
   ]
  },
  {
   "cell_type": "markdown",
   "metadata": {},
   "source": [
    "##### Agora, com a padronização aplicada, todos os dados estão na mesma escala, sem valores discrepantes que possam prejudicar a performance do modelo.\n",
    "\n"
   ]
  },
  {
   "cell_type": "markdown",
   "metadata": {},
   "source": [
    "## Separação em treino e teste"
   ]
  },
  {
   "cell_type": "code",
   "execution_count": 372,
   "metadata": {},
   "outputs": [],
   "source": [
    "from sklearn.model_selection import train_test_split"
   ]
  },
  {
   "cell_type": "code",
   "execution_count": 373,
   "metadata": {},
   "outputs": [],
   "source": [
    "x_train, x_test, y_train, y_test = train_test_split(df_previsores, target, random_state=0, test_size=0.3)"
   ]
  },
  {
   "cell_type": "markdown",
   "metadata": {},
   "source": [
    "# Algoritmos de Machine Learning:"
   ]
  },
  {
   "cell_type": "markdown",
   "metadata": {},
   "source": [
    "## Naive Bayes"
   ]
  },
  {
   "cell_type": "code",
   "execution_count": 374,
   "metadata": {},
   "outputs": [],
   "source": [
    "from sklearn.naive_bayes import GaussianNB"
   ]
  },
  {
   "cell_type": "code",
   "execution_count": 375,
   "metadata": {},
   "outputs": [],
   "source": [
    "gnb = GaussianNB().fit(x_train, y_train)"
   ]
  },
  {
   "cell_type": "markdown",
   "metadata": {},
   "source": [
    "### Analise dos dados de treino"
   ]
  },
  {
   "cell_type": "code",
   "execution_count": 376,
   "metadata": {},
   "outputs": [],
   "source": [
    "previsoes_treino_gnb = gnb.predict(x_train)"
   ]
  },
  {
   "cell_type": "code",
   "execution_count": 377,
   "metadata": {},
   "outputs": [
    {
     "name": "stdout",
     "output_type": "stream",
     "text": [
      "Matriz de confusão treino:\n",
      "[[245  44]\n",
      " [ 57 295]]\n",
      "\n",
      "Acurácia no treino: 84.24%\n",
      "\n",
      "Metricas treino:\n",
      "              precision    recall  f1-score   support\n",
      "\n",
      "           0       0.81      0.85      0.83       289\n",
      "           1       0.87      0.84      0.85       352\n",
      "\n",
      "    accuracy                           0.84       641\n",
      "   macro avg       0.84      0.84      0.84       641\n",
      "weighted avg       0.84      0.84      0.84       641\n",
      "\n"
     ]
    }
   ],
   "source": [
    "print('Matriz de confusão treino:')\n",
    "print(metrics.confusion_matrix(y_train, previsoes_treino_gnb))\n",
    "print('')\n",
    "\n",
    "print('Acurácia no treino: %.2f%%' % (metrics.accuracy_score(y_train, previsoes_treino_gnb) * 100))\n",
    "print('')\n",
    "\n",
    "print('Metricas treino:')\n",
    "print(metrics.classification_report(y_train, previsoes_treino_gnb))"
   ]
  },
  {
   "cell_type": "markdown",
   "metadata": {},
   "source": [
    "### Analise dos dados de teste"
   ]
  },
  {
   "cell_type": "code",
   "execution_count": 378,
   "metadata": {},
   "outputs": [],
   "source": [
    "y_pred_gnb = gnb.predict(x_test)"
   ]
  },
  {
   "cell_type": "code",
   "execution_count": 379,
   "metadata": {},
   "outputs": [
    {
     "name": "stdout",
     "output_type": "stream",
     "text": [
      "Matriz de confusão teste:\n",
      "[[102  19]\n",
      " [ 23 132]]\n",
      "\n",
      "Acurácia no teste: 84.78%\n",
      "\n",
      "Metricas teste:\n",
      "              precision    recall  f1-score   support\n",
      "\n",
      "           0       0.82      0.84      0.83       121\n",
      "           1       0.87      0.85      0.86       155\n",
      "\n",
      "    accuracy                           0.85       276\n",
      "   macro avg       0.85      0.85      0.85       276\n",
      "weighted avg       0.85      0.85      0.85       276\n",
      "\n"
     ]
    }
   ],
   "source": [
    "print('Matriz de confusão teste:')\n",
    "print(metrics.confusion_matrix(y_test, y_pred_gnb))\n",
    "print('')\n",
    "\n",
    "print('Acurácia no teste: %.2f%%' % (metrics.accuracy_score(y_test, y_pred_gnb) * 100))\n",
    "print('')\n",
    "\n",
    "print('Metricas teste:')\n",
    "print(metrics.classification_report(y_test, y_pred_gnb))"
   ]
  },
  {
   "cell_type": "markdown",
   "metadata": {},
   "source": [
    "### Aplicando a validação cruzada"
   ]
  },
  {
   "cell_type": "code",
   "execution_count": 380,
   "metadata": {},
   "outputs": [],
   "source": [
    "from sklearn.model_selection import KFold\n",
    "from sklearn.model_selection import cross_val_score"
   ]
  },
  {
   "cell_type": "code",
   "execution_count": 381,
   "metadata": {},
   "outputs": [],
   "source": [
    "kfold = KFold(n_splits = 30, shuffle=True, random_state=5)"
   ]
  },
  {
   "cell_type": "code",
   "execution_count": 382,
   "metadata": {},
   "outputs": [],
   "source": [
    "resultado_gnb = cross_val_score(gnb, df_previsores, target, cv=kfold)"
   ]
  },
  {
   "cell_type": "code",
   "execution_count": 383,
   "metadata": {},
   "outputs": [
    {
     "name": "stdout",
     "output_type": "stream",
     "text": [
      "Acurácia Validação Cruzada: 84.17%\n"
     ]
    }
   ],
   "source": [
    "print('Acurácia Validação Cruzada: %.2f%%' % (resultado_gnb.mean()*100))"
   ]
  },
  {
   "cell_type": "markdown",
   "metadata": {},
   "source": [
    "### Avaliação do Modelo Naive Byes\n",
    "\n",
    "O modelo apresentou bom desempenho com acurácias próximas nos dados de treino, teste e validação cruzada, indicando que ele generaliza bem.\n",
    "\n",
    "- **Acurácia:**\n",
    "  - Treino: **84.24%**\n",
    "  - Teste: **84.78%**\n",
    "  - Validação Cruzada: **84.17%**\n",
    "\n",
    "- **Conclusão:**\n",
    "  Não houve **overfitting** nem **underfitting**. O modelo foi **bem-sucedido** em prever a presença de doença cardíaca, com bom equilíbrio entre os conjuntos de treino, teste e validação cruzada."
   ]
  },
  {
   "cell_type": "markdown",
   "metadata": {},
   "source": [
    "## Suport Vector Machine(SVM)"
   ]
  },
  {
   "cell_type": "code",
   "execution_count": 384,
   "metadata": {},
   "outputs": [],
   "source": [
    "from sklearn.svm import SVC"
   ]
  },
  {
   "cell_type": "code",
   "execution_count": 385,
   "metadata": {},
   "outputs": [],
   "source": [
    "svm = SVC(kernel='rbf', random_state=42, C=1, gamma='auto').fit(x_train, y_train)"
   ]
  },
  {
   "cell_type": "markdown",
   "metadata": {},
   "source": [
    "### Analise dos dados de treino"
   ]
  },
  {
   "cell_type": "code",
   "execution_count": 386,
   "metadata": {},
   "outputs": [],
   "source": [
    "previsoes_treino_svm = svm.predict(x_train)"
   ]
  },
  {
   "cell_type": "code",
   "execution_count": 387,
   "metadata": {},
   "outputs": [
    {
     "name": "stdout",
     "output_type": "stream",
     "text": [
      "Matriz de confusão treino:\n",
      "[[244  45]\n",
      " [ 16 336]]\n",
      "\n",
      "Acurácia no treino: 90.48%\n",
      "\n",
      "Metricas treino:\n",
      "              precision    recall  f1-score   support\n",
      "\n",
      "           0       0.94      0.84      0.89       289\n",
      "           1       0.88      0.95      0.92       352\n",
      "\n",
      "    accuracy                           0.90       641\n",
      "   macro avg       0.91      0.90      0.90       641\n",
      "weighted avg       0.91      0.90      0.90       641\n",
      "\n"
     ]
    }
   ],
   "source": [
    "print('Matriz de confusão treino:')\n",
    "print(metrics.confusion_matrix(y_train, previsoes_treino_svm))\n",
    "print('')\n",
    "\n",
    "print('Acurácia no treino: %.2f%%' % (metrics.accuracy_score(y_train, previsoes_treino_svm)*100))\n",
    "print('')\n",
    "\n",
    "print('Metricas treino:')\n",
    "print(metrics.classification_report(y_train, previsoes_treino_svm))"
   ]
  },
  {
   "cell_type": "markdown",
   "metadata": {},
   "source": [
    "### Análise dos dados de teste"
   ]
  },
  {
   "cell_type": "code",
   "execution_count": 388,
   "metadata": {},
   "outputs": [],
   "source": [
    "y_pred_svc = svm.predict(x_test)"
   ]
  },
  {
   "cell_type": "code",
   "execution_count": 389,
   "metadata": {},
   "outputs": [
    {
     "name": "stdout",
     "output_type": "stream",
     "text": [
      "Matriz de confusão teste:\n",
      "[[ 98  23]\n",
      " [ 19 136]]\n",
      "\n",
      "Acurácia no teste: 84.78%\n",
      "\n",
      "Metricas teste:\n",
      "              precision    recall  f1-score   support\n",
      "\n",
      "           0       0.84      0.81      0.82       121\n",
      "           1       0.86      0.88      0.87       155\n",
      "\n",
      "    accuracy                           0.85       276\n",
      "   macro avg       0.85      0.84      0.84       276\n",
      "weighted avg       0.85      0.85      0.85       276\n",
      "\n"
     ]
    }
   ],
   "source": [
    "print('Matriz de confusão teste:')\n",
    "print(metrics.confusion_matrix(y_test, y_pred_svc))\n",
    "print('')\n",
    "\n",
    "print('Acurácia no teste: %.2f%%' % (metrics.accuracy_score(y_test, y_pred_svc)*100))\n",
    "print('')\n",
    "\n",
    "print('Metricas teste:')\n",
    "print(metrics.classification_report(y_test, y_pred_svc))"
   ]
  },
  {
   "cell_type": "markdown",
   "metadata": {},
   "source": [
    "### Validação Cruzada"
   ]
  },
  {
   "cell_type": "code",
   "execution_count": 390,
   "metadata": {},
   "outputs": [],
   "source": [
    "resultado_svm = cross_val_score(svm, df_previsores, target, cv=kfold)"
   ]
  },
  {
   "cell_type": "code",
   "execution_count": 391,
   "metadata": {},
   "outputs": [
    {
     "name": "stdout",
     "output_type": "stream",
     "text": [
      "Acurácia Validação Cruzada: 86.48%\n"
     ]
    }
   ],
   "source": [
    "print('Acurácia Validação Cruzada: %.2f%%' % (resultado_svm.mean()*100))"
   ]
  },
  {
   "cell_type": "markdown",
   "metadata": {},
   "source": [
    "### Análise de Desempenho do Modelo SVC\n",
    "\n",
    "O modelo SVC com kernel linear obteve os seguintes resultados:\n",
    "\n",
    "- **Acurácia no Treino**: 90.48%\n",
    "- **Acurácia no Teste**: 84.78%\n",
    "- **Acurácia na Validação Cruzada**: 86.48%\n",
    "\n",
    "### Conclusão:\n",
    "A diferença entre as acurácias de treino e teste, bem como a acurácia na validação cruzada, é pequena e indica que o modelo está **generalizando bem**. O modelo não apresenta sinais claros de **overfitting**, ou  **underfitting** uma vez que o desempenho nos dados de teste e validação é consistente com o de treino. Portanto, o **modelo se saiu bem** e está ajustado adequadamente, sem problemas de overfitting."
   ]
  },
  {
   "cell_type": "markdown",
   "metadata": {},
   "source": [
    "## Logistic Regression"
   ]
  },
  {
   "cell_type": "code",
   "execution_count": 392,
   "metadata": {},
   "outputs": [],
   "source": [
    "from sklearn.linear_model import LogisticRegression"
   ]
  },
  {
   "cell_type": "code",
   "execution_count": 393,
   "metadata": {},
   "outputs": [],
   "source": [
    "log = LogisticRegression(random_state=42, max_iter=500, penalty='l2', \n",
    "                         tol=0.0001, C=1, solver='lbfgs').fit(x_train, y_train)"
   ]
  },
  {
   "cell_type": "markdown",
   "metadata": {},
   "source": [
    "### Análise dos dados de treino"
   ]
  },
  {
   "cell_type": "code",
   "execution_count": 394,
   "metadata": {},
   "outputs": [],
   "source": [
    "previsoes_treino_log = log.predict(x_train)"
   ]
  },
  {
   "cell_type": "code",
   "execution_count": 395,
   "metadata": {},
   "outputs": [
    {
     "name": "stdout",
     "output_type": "stream",
     "text": [
      "Matriz de confusão treino:\n",
      "[[239  50]\n",
      " [ 47 305]]\n",
      "\n",
      "Acurácia no treino: 84.87%\n",
      "\n",
      "Metricas treino:\n",
      "              precision    recall  f1-score   support\n",
      "\n",
      "           0       0.84      0.83      0.83       289\n",
      "           1       0.86      0.87      0.86       352\n",
      "\n",
      "    accuracy                           0.85       641\n",
      "   macro avg       0.85      0.85      0.85       641\n",
      "weighted avg       0.85      0.85      0.85       641\n",
      "\n"
     ]
    }
   ],
   "source": [
    "print('Matriz de confusão treino:')\n",
    "print(metrics.confusion_matrix(y_train, previsoes_treino_log))\n",
    "print('')\n",
    "\n",
    "print('Acurácia no treino: %.2f%%' % (metrics.accuracy_score(y_train, previsoes_treino_log)*100))\n",
    "print('')\n",
    "\n",
    "print('Metricas treino:')\n",
    "print(metrics.classification_report(y_train, previsoes_treino_log))"
   ]
  },
  {
   "cell_type": "markdown",
   "metadata": {},
   "source": [
    "### Análise dos dados de teste"
   ]
  },
  {
   "cell_type": "code",
   "execution_count": 396,
   "metadata": {},
   "outputs": [],
   "source": [
    "y_pred_log = log.predict(x_test)"
   ]
  },
  {
   "cell_type": "code",
   "execution_count": 397,
   "metadata": {},
   "outputs": [
    {
     "name": "stdout",
     "output_type": "stream",
     "text": [
      "Matriz de confusão teste:\n",
      "[[100  21]\n",
      " [ 19 136]]\n",
      "\n",
      "Acurácia no teste: 85.51%\n",
      "\n",
      "Metricas teste:\n",
      "              precision    recall  f1-score   support\n",
      "\n",
      "           0       0.84      0.83      0.83       121\n",
      "           1       0.87      0.88      0.87       155\n",
      "\n",
      "    accuracy                           0.86       276\n",
      "   macro avg       0.85      0.85      0.85       276\n",
      "weighted avg       0.85      0.86      0.85       276\n",
      "\n"
     ]
    }
   ],
   "source": [
    "print('Matriz de confusão teste:')\n",
    "print(metrics.confusion_matrix(y_test, y_pred_log))\n",
    "print('')\n",
    "\n",
    "print('Acurácia no teste: %.2f%%' % (metrics.accuracy_score(y_test, y_pred_log)*100))\n",
    "print('')\n",
    "\n",
    "print('Metricas teste:')\n",
    "print(metrics.classification_report(y_test, y_pred_log))"
   ]
  },
  {
   "cell_type": "markdown",
   "metadata": {},
   "source": [
    "### Validação Cruzada"
   ]
  },
  {
   "cell_type": "code",
   "execution_count": 398,
   "metadata": {},
   "outputs": [],
   "source": [
    "resultado_log = cross_val_score(log, df_previsores, target, cv=kfold)"
   ]
  },
  {
   "cell_type": "code",
   "execution_count": 399,
   "metadata": {},
   "outputs": [
    {
     "name": "stdout",
     "output_type": "stream",
     "text": [
      "Acurácia Validação Cruzada: 84.51%\n"
     ]
    }
   ],
   "source": [
    "print('Acurácia Validação Cruzada: %.2f%%' % (resultado_log.mean()*100))"
   ]
  },
  {
   "cell_type": "markdown",
   "metadata": {},
   "source": [
    "### Análise de Desempenho do Logistic Regression\n",
    "\n",
    "O modelo obteve os seguintes resultados:\n",
    "\n",
    "- *Acurácia no Treino*: 84.87%\n",
    "- *Acurácia no Teste*: 85.51%\n",
    "- *Acurácia na Validação Cruzada*: 84.51%\n",
    "\n",
    "### Conclusão:\n",
    "A diferença entre as acurácias de treino e teste, bem como a acurácia na validação cruzada, é pequena e indica que o modelo está generalizando bem. O modelo não apresenta sinais claros de **overfitting**, ou  **underfitting** uma vez que o desempenho nos dados de teste e validação é consistente com o de treino. Portanto, o *modelo se saiu bem e está ajustado adequadamente, sem problemas de overfitting."
   ]
  },
  {
   "cell_type": "markdown",
   "metadata": {},
   "source": [
    "## KNN"
   ]
  },
  {
   "cell_type": "code",
   "execution_count": 400,
   "metadata": {},
   "outputs": [],
   "source": [
    "from sklearn.neighbors import KNeighborsClassifier"
   ]
  },
  {
   "cell_type": "code",
   "execution_count": 401,
   "metadata": {},
   "outputs": [],
   "source": [
    "knn = KNeighborsClassifier(n_neighbors=5, metric='minkowski', p=1).fit(x_train, y_train)"
   ]
  },
  {
   "cell_type": "markdown",
   "metadata": {},
   "source": [
    "### Análise dos dados de treino"
   ]
  },
  {
   "cell_type": "code",
   "execution_count": 402,
   "metadata": {},
   "outputs": [],
   "source": [
    "previsoes_treino_knn = knn.predict(x_train)"
   ]
  },
  {
   "cell_type": "code",
   "execution_count": 403,
   "metadata": {},
   "outputs": [
    {
     "name": "stdout",
     "output_type": "stream",
     "text": [
      "Matriz de confusão treino:\n",
      "[[253  36]\n",
      " [ 30 322]]\n",
      "\n",
      "Acurácia no treino: 89.70%\n",
      "\n",
      "Metricas treino:\n",
      "              precision    recall  f1-score   support\n",
      "\n",
      "           0       0.89      0.88      0.88       289\n",
      "           1       0.90      0.91      0.91       352\n",
      "\n",
      "    accuracy                           0.90       641\n",
      "   macro avg       0.90      0.90      0.90       641\n",
      "weighted avg       0.90      0.90      0.90       641\n",
      "\n"
     ]
    }
   ],
   "source": [
    "print('Matriz de confusão treino:')\n",
    "print(metrics.confusion_matrix(y_train, previsoes_treino_knn))\n",
    "print('')\n",
    "\n",
    "print('Acurácia no treino: %.2f%%' % (metrics.accuracy_score(y_train, previsoes_treino_knn)*100))\n",
    "print('')\n",
    "\n",
    "print('Metricas treino:')\n",
    "print(metrics.classification_report(y_train, previsoes_treino_knn))"
   ]
  },
  {
   "cell_type": "markdown",
   "metadata": {},
   "source": [
    "### Análise dos dados de teste"
   ]
  },
  {
   "cell_type": "code",
   "execution_count": 404,
   "metadata": {},
   "outputs": [],
   "source": [
    "y_pred_knn = knn.predict(x_test)"
   ]
  },
  {
   "cell_type": "code",
   "execution_count": 405,
   "metadata": {},
   "outputs": [
    {
     "name": "stdout",
     "output_type": "stream",
     "text": [
      "Matriz de confusão teste:\n",
      "[[102  19]\n",
      " [ 19 136]]\n",
      "\n",
      "Acurácia no teste: 86.23%\n",
      "\n",
      "Metricas teste:\n",
      "              precision    recall  f1-score   support\n",
      "\n",
      "           0       0.84      0.84      0.84       121\n",
      "           1       0.88      0.88      0.88       155\n",
      "\n",
      "    accuracy                           0.86       276\n",
      "   macro avg       0.86      0.86      0.86       276\n",
      "weighted avg       0.86      0.86      0.86       276\n",
      "\n"
     ]
    }
   ],
   "source": [
    "print('Matriz de confusão teste:')\n",
    "print(metrics.confusion_matrix(y_test, y_pred_knn))\n",
    "print('')\n",
    "\n",
    "print('Acurácia no teste: %.2f%%' % (metrics.accuracy_score(y_test, y_pred_knn)*100))\n",
    "print('')\n",
    "\n",
    "print('Metricas teste:')\n",
    "print(metrics.classification_report(y_test, y_pred_knn))"
   ]
  },
  {
   "cell_type": "markdown",
   "metadata": {},
   "source": [
    "### Validação Cruzada"
   ]
  },
  {
   "cell_type": "code",
   "execution_count": 406,
   "metadata": {},
   "outputs": [],
   "source": [
    "resultado_knn = cross_val_score(knn, df_previsores, target, cv=kfold)"
   ]
  },
  {
   "cell_type": "code",
   "execution_count": 407,
   "metadata": {},
   "outputs": [
    {
     "name": "stdout",
     "output_type": "stream",
     "text": [
      "Acurácia Validação Cruzada: 86.25%\n"
     ]
    }
   ],
   "source": [
    "print('Acurácia Validação Cruzada: %.2f%%' % (resultado_knn.mean()*100))"
   ]
  },
  {
   "cell_type": "markdown",
   "metadata": {},
   "source": [
    "### Análise de Desempenho do Modelo KNN\n",
    "\n",
    "O modelo obteve os seguintes resultados:\n",
    "\n",
    "- *Acurácia no Treino*: 89.70%\n",
    "- *Acurácia no Teste*: 86.23%\n",
    "- *Acurácia na Validação Cruzada*: 86.25%\n",
    "\n",
    "### Conclusão:\n",
    "A diferença entre as acurácias de treino e teste, bem como a acurácia na validação cruzada, é pequena e indica que o modelo está generalizando bem. O modelo não apresenta sinais claros de **overfitting**, ou  **underfitting** uma vez que o desempenho nos dados de teste e validação é consistente com o de treino. Portanto, o modelo se saiu bem e está ajustado adequadamente, sem problemas de overfitting."
   ]
  },
  {
   "cell_type": "markdown",
   "metadata": {},
   "source": [
    "## Decision Tree"
   ]
  },
  {
   "cell_type": "code",
   "execution_count": 408,
   "metadata": {},
   "outputs": [],
   "source": [
    "from sklearn.tree import DecisionTreeClassifier"
   ]
  },
  {
   "cell_type": "code",
   "execution_count": 409,
   "metadata": {},
   "outputs": [],
   "source": [
    "arv = DecisionTreeClassifier(criterion='gini', random_state=0, max_depth=3).fit(x_train, y_train)"
   ]
  },
  {
   "cell_type": "markdown",
   "metadata": {},
   "source": [
    "### Análise dos dados de treino"
   ]
  },
  {
   "cell_type": "code",
   "execution_count": 410,
   "metadata": {},
   "outputs": [],
   "source": [
    "previsoes_treino_arv = arv.predict(x_train)"
   ]
  },
  {
   "cell_type": "code",
   "execution_count": 411,
   "metadata": {},
   "outputs": [
    {
     "name": "stdout",
     "output_type": "stream",
     "text": [
      "Matriz de confusão treino:\n",
      "[[233  56]\n",
      " [ 30 322]]\n",
      "\n",
      "Acurácia no treino: 86.58%\n",
      "\n",
      "Metricas treino:\n",
      "              precision    recall  f1-score   support\n",
      "\n",
      "           0       0.89      0.81      0.84       289\n",
      "           1       0.85      0.91      0.88       352\n",
      "\n",
      "    accuracy                           0.87       641\n",
      "   macro avg       0.87      0.86      0.86       641\n",
      "weighted avg       0.87      0.87      0.87       641\n",
      "\n"
     ]
    }
   ],
   "source": [
    "print('Matriz de confusão treino:')\n",
    "print(metrics.confusion_matrix(y_train, previsoes_treino_arv))\n",
    "print('')\n",
    "\n",
    "print('Acurácia no treino: %.2f%%' % (metrics.accuracy_score(y_train, previsoes_treino_arv)*100))\n",
    "print('')\n",
    "\n",
    "print('Metricas treino:')\n",
    "print(metrics.classification_report(y_train, previsoes_treino_arv))"
   ]
  },
  {
   "cell_type": "markdown",
   "metadata": {},
   "source": [
    "### Análise dos dados de teste"
   ]
  },
  {
   "cell_type": "code",
   "execution_count": 412,
   "metadata": {},
   "outputs": [],
   "source": [
    "y_pred_arv = arv.predict(x_test)"
   ]
  },
  {
   "cell_type": "code",
   "execution_count": 413,
   "metadata": {},
   "outputs": [
    {
     "name": "stdout",
     "output_type": "stream",
     "text": [
      "Matriz de confusão teste:\n",
      "[[ 98  23]\n",
      " [ 22 133]]\n",
      "\n",
      "Acurácia no teste: 83.70%\n",
      "\n",
      "Metricas teste:\n",
      "              precision    recall  f1-score   support\n",
      "\n",
      "           0       0.82      0.81      0.81       121\n",
      "           1       0.85      0.86      0.86       155\n",
      "\n",
      "    accuracy                           0.84       276\n",
      "   macro avg       0.83      0.83      0.83       276\n",
      "weighted avg       0.84      0.84      0.84       276\n",
      "\n"
     ]
    }
   ],
   "source": [
    "print('Matriz de confusão teste:')\n",
    "print(metrics.confusion_matrix(y_test, y_pred_arv))\n",
    "print('')\n",
    "\n",
    "print('Acurácia no teste: %.2f%%' % (metrics.accuracy_score(y_test, y_pred_arv)*100))\n",
    "print('')\n",
    "\n",
    "print('Metricas teste:')\n",
    "print(metrics.classification_report(y_test, y_pred_arv))"
   ]
  },
  {
   "cell_type": "markdown",
   "metadata": {},
   "source": [
    "### Validação Cruzada"
   ]
  },
  {
   "cell_type": "code",
   "execution_count": 414,
   "metadata": {},
   "outputs": [],
   "source": [
    "resultado_arv = cross_val_score(arv, df_previsores, target, cv=kfold)"
   ]
  },
  {
   "cell_type": "code",
   "execution_count": 415,
   "metadata": {},
   "outputs": [
    {
     "name": "stdout",
     "output_type": "stream",
     "text": [
      "Acurácia Validação Cruzada: 83.20%\n"
     ]
    }
   ],
   "source": [
    "print('Acurácia Validação Cruzada: %.2f%%' % (resultado_arv.mean()*100))"
   ]
  },
  {
   "cell_type": "markdown",
   "metadata": {},
   "source": [
    "### Análise de Desempenho do Modelo Decision Tree\n",
    "\n",
    "O modelo obteve os seguintes resultados:\n",
    "\n",
    "- Acurácia no Treino: 86.58%\n",
    "- Acurácia no Teste: 83.70%\n",
    "- Acurácia na Validação Cruzada: 83.20%\n",
    "\n",
    "### Conclusão:\n",
    "A diferença entre as acurácias de treino e teste, bem como a acurácia na validação cruzada, é pequena e indica que o modelo está generalizando bem. O modelo não apresenta sinais claros de ***overfitting**, ou  **underfitting** uma vez que o desempenho nos dados de teste e validação é consistente com o de treino. Portanto, o modelo se saiu bem e está ajustado adequadamente, sem problemas de overfitting."
   ]
  },
  {
   "cell_type": "markdown",
   "metadata": {},
   "source": [
    "## Random Forest"
   ]
  },
  {
   "cell_type": "code",
   "execution_count": 416,
   "metadata": {},
   "outputs": [],
   "source": [
    "from sklearn.ensemble import RandomForestClassifier"
   ]
  },
  {
   "cell_type": "code",
   "execution_count": 417,
   "metadata": {},
   "outputs": [],
   "source": [
    "forest = RandomForestClassifier(n_estimators=170, criterion='entropy', \n",
    "                                random_state=0, max_depth=5).fit(x_train,y_train)"
   ]
  },
  {
   "cell_type": "markdown",
   "metadata": {},
   "source": [
    "### Análise dos dados de treino"
   ]
  },
  {
   "cell_type": "code",
   "execution_count": 418,
   "metadata": {},
   "outputs": [],
   "source": [
    "previsoes_treino_forest = forest.predict(x_train)"
   ]
  },
  {
   "cell_type": "code",
   "execution_count": 419,
   "metadata": {},
   "outputs": [
    {
     "name": "stdout",
     "output_type": "stream",
     "text": [
      "Matriz de confusão treino:\n",
      "[[253  36]\n",
      " [ 19 333]]\n",
      "\n",
      "Acurácia no treino: 91.42%\n",
      "\n",
      "Metricas treino:\n",
      "              precision    recall  f1-score   support\n",
      "\n",
      "           0       0.93      0.88      0.90       289\n",
      "           1       0.90      0.95      0.92       352\n",
      "\n",
      "    accuracy                           0.91       641\n",
      "   macro avg       0.92      0.91      0.91       641\n",
      "weighted avg       0.91      0.91      0.91       641\n",
      "\n"
     ]
    }
   ],
   "source": [
    "print('Matriz de confusão treino:')\n",
    "print(metrics.confusion_matrix(y_train, previsoes_treino_forest))\n",
    "print('')\n",
    "\n",
    "print('Acurácia no treino: %.2f%%' % (metrics.accuracy_score(y_train, previsoes_treino_forest)*100))\n",
    "print('')\n",
    "\n",
    "print('Metricas treino:')\n",
    "print(metrics.classification_report(y_train, previsoes_treino_forest))"
   ]
  },
  {
   "cell_type": "markdown",
   "metadata": {},
   "source": [
    "### Análise dos dados de teste"
   ]
  },
  {
   "cell_type": "code",
   "execution_count": 420,
   "metadata": {},
   "outputs": [],
   "source": [
    "y_pred_forest = forest.predict(x_test)"
   ]
  },
  {
   "cell_type": "code",
   "execution_count": 421,
   "metadata": {},
   "outputs": [
    {
     "name": "stdout",
     "output_type": "stream",
     "text": [
      "Matriz de confusão teste:\n",
      "[[105  16]\n",
      " [ 21 134]]\n",
      "\n",
      "Acurácia no teste: 86.59%\n",
      "\n",
      "Metricas teste:\n",
      "              precision    recall  f1-score   support\n",
      "\n",
      "           0       0.83      0.87      0.85       121\n",
      "           1       0.89      0.86      0.88       155\n",
      "\n",
      "    accuracy                           0.87       276\n",
      "   macro avg       0.86      0.87      0.86       276\n",
      "weighted avg       0.87      0.87      0.87       276\n",
      "\n"
     ]
    }
   ],
   "source": [
    "print('Matriz de confusão teste:')\n",
    "print(metrics.confusion_matrix(y_test, y_pred_forest))\n",
    "print('')\n",
    "\n",
    "print('Acurácia no teste: %.2f%%' % (metrics.accuracy_score(y_test, y_pred_forest)*100))\n",
    "print('')\n",
    "\n",
    "print('Metricas teste:')\n",
    "print(metrics.classification_report(y_test, y_pred_forest))"
   ]
  },
  {
   "cell_type": "markdown",
   "metadata": {},
   "source": [
    "### Validação Cruzada"
   ]
  },
  {
   "cell_type": "code",
   "execution_count": 422,
   "metadata": {},
   "outputs": [],
   "source": [
    "resultado_forest = cross_val_score(forest, df_previsores, target, cv=kfold)"
   ]
  },
  {
   "cell_type": "code",
   "execution_count": 423,
   "metadata": {},
   "outputs": [
    {
     "name": "stdout",
     "output_type": "stream",
     "text": [
      "Acurácia Validação Cruzada: 86.36%\n"
     ]
    }
   ],
   "source": [
    "print('Acurácia Validação Cruzada: %.2f%%' % (resultado_forest.mean()*100))"
   ]
  },
  {
   "cell_type": "markdown",
   "metadata": {},
   "source": [
    "### Análise de Desempenho do Modelo Random Forest\n",
    "\n",
    "O modelo obteve os seguintes resultados:\n",
    "\n",
    "- Acurácia no Treino: 91.42%\n",
    "- Acurácia no Teste: 86.59%\n",
    "- Acurácia na Validação Cruzada: 86.47%\n",
    "\n",
    "### Conclusão:\n",
    "A diferença entre as acurácias de treino e teste, bem como a acurácia na validação cruzada, é pequena e indica que o modelo está generalizando bem. O modelo não apresenta sinais claros de **overfitting**, ou  **underfitting** uma vez que o desempenho nos dados de teste e validação é consistente com o de treino. Portanto, o modelo se saiu bem e está ajustado adequadamente, sem problemas de overfitting."
   ]
  },
  {
   "cell_type": "markdown",
   "metadata": {},
   "source": [
    "## XGBoost"
   ]
  },
  {
   "cell_type": "code",
   "execution_count": 424,
   "metadata": {},
   "outputs": [],
   "source": [
    "from xgboost import XGBClassifier"
   ]
  },
  {
   "cell_type": "code",
   "execution_count": 425,
   "metadata": {},
   "outputs": [],
   "source": [
    "xgb = XGBClassifier(max_depth=2, objective='reg:logistic', \n",
    "                    n_estimators= 200, learning_rate=0.07, random_state=1).fit(x_train, y_train)"
   ]
  },
  {
   "cell_type": "markdown",
   "metadata": {},
   "source": [
    "### Análise dos dados de treino"
   ]
  },
  {
   "cell_type": "code",
   "execution_count": 426,
   "metadata": {},
   "outputs": [],
   "source": [
    "previsoes_treino_xgb = xgb.predict(x_train)"
   ]
  },
  {
   "cell_type": "code",
   "execution_count": 427,
   "metadata": {},
   "outputs": [
    {
     "name": "stdout",
     "output_type": "stream",
     "text": [
      "Matriz de confusão treino:\n",
      "[[253  36]\n",
      " [ 19 333]]\n",
      "\n",
      "Acurácia no treino: 91.42%\n",
      "\n",
      "Metricas treino:\n",
      "              precision    recall  f1-score   support\n",
      "\n",
      "           0       0.93      0.88      0.90       289\n",
      "           1       0.90      0.95      0.92       352\n",
      "\n",
      "    accuracy                           0.91       641\n",
      "   macro avg       0.92      0.91      0.91       641\n",
      "weighted avg       0.91      0.91      0.91       641\n",
      "\n"
     ]
    }
   ],
   "source": [
    "print('Matriz de confusão treino:')\n",
    "print(metrics.confusion_matrix(y_train, previsoes_treino_xgb))\n",
    "print('')\n",
    "\n",
    "print('Acurácia no treino: %.2f%%' % (metrics.accuracy_score(y_train, previsoes_treino_xgb)*100))\n",
    "print('')\n",
    "\n",
    "print('Metricas treino:')\n",
    "print(metrics.classification_report(y_train, previsoes_treino_xgb))"
   ]
  },
  {
   "cell_type": "markdown",
   "metadata": {},
   "source": [
    "### Análise dos dados de teste"
   ]
  },
  {
   "cell_type": "code",
   "execution_count": 428,
   "metadata": {},
   "outputs": [],
   "source": [
    "y_pred_xgb = xgb.predict(x_test)"
   ]
  },
  {
   "cell_type": "code",
   "execution_count": 429,
   "metadata": {},
   "outputs": [
    {
     "name": "stdout",
     "output_type": "stream",
     "text": [
      "Matriz de confusão teste:\n",
      "[[103  18]\n",
      " [ 18 137]]\n",
      "\n",
      "Acurácia no teste: 86.96%\n",
      "\n",
      "Metricas teste:\n",
      "              precision    recall  f1-score   support\n",
      "\n",
      "           0       0.85      0.85      0.85       121\n",
      "           1       0.88      0.88      0.88       155\n",
      "\n",
      "    accuracy                           0.87       276\n",
      "   macro avg       0.87      0.87      0.87       276\n",
      "weighted avg       0.87      0.87      0.87       276\n",
      "\n"
     ]
    }
   ],
   "source": [
    "print('Matriz de confusão teste:')\n",
    "print(metrics.confusion_matrix(y_test, y_pred_xgb))\n",
    "print('')\n",
    "\n",
    "print('Acurácia no teste: %.2f%%' % (metrics.accuracy_score(y_test, y_pred_xgb)*100))\n",
    "print('')\n",
    "\n",
    "print('Metricas teste:')\n",
    "print(metrics.classification_report(y_test, y_pred_xgb))"
   ]
  },
  {
   "cell_type": "markdown",
   "metadata": {},
   "source": [
    "### Validação Cruzada"
   ]
  },
  {
   "cell_type": "code",
   "execution_count": 430,
   "metadata": {},
   "outputs": [],
   "source": [
    "resultado_xgd = cross_val_score(xgb, df_previsores, target, cv=kfold)"
   ]
  },
  {
   "cell_type": "code",
   "execution_count": 431,
   "metadata": {},
   "outputs": [
    {
     "name": "stdout",
     "output_type": "stream",
     "text": [
      "Acurácia Validação Cruzada: 86.80%\n"
     ]
    }
   ],
   "source": [
    "print('Acurácia Validação Cruzada: %.2f%%' % (resultado_xgd.mean()*100))"
   ]
  },
  {
   "cell_type": "markdown",
   "metadata": {},
   "source": [
    "### Análise de Desempenho do Modelo XGBoost\n",
    "\n",
    "O modelo obteve os seguintes resultados:\n",
    "\n",
    "- Acurácia no Treino: 91.42%\n",
    "- Acurácia no Teste: 86.96%\n",
    "- Acurácia na Validação Cruzada: 86.80%\n",
    "\n",
    "### Conclusão:\n",
    "A diferença entre as acurácias de treino e teste, bem como a acurácia na validação cruzada, é pequena e indica que o modelo está generalizando bem. O modelo não apresenta sinais claros de **overfitting**, ou  **underfitting** uma vez que o desempenho nos dados de teste e validação é consistente com o de treino. Portanto, o modelo se saiu bem e está ajustado adequadamente, sem problemas de overfitting."
   ]
  },
  {
   "cell_type": "markdown",
   "metadata": {},
   "source": [
    "## LightGBM"
   ]
  },
  {
   "cell_type": "code",
   "execution_count": 432,
   "metadata": {},
   "outputs": [],
   "source": [
    "import lightgbm as lgb"
   ]
  },
  {
   "cell_type": "code",
   "execution_count": 433,
   "metadata": {},
   "outputs": [],
   "source": [
    "#Dataset para treino\n",
    "df_lgb = lgb.Dataset(x_train, label=y_train)"
   ]
  },
  {
   "cell_type": "code",
   "execution_count": 434,
   "metadata": {},
   "outputs": [],
   "source": [
    "parametros_lgb = {\n",
    "    'num_leaves': 100, \n",
    "    'objective': 'binary',\n",
    "    'max_depth': 2,\n",
    "    'max_bin': 200, \n",
    "    'learning_rate': 0.03,\n",
    "    'verbosity': -1  \n",
    "}"
   ]
  },
  {
   "cell_type": "code",
   "execution_count": 435,
   "metadata": {},
   "outputs": [
    {
     "data": {
      "text/plain": [
       "<lightgbm.basic.Booster at 0x20780e0b3a0>"
      ]
     },
     "execution_count": 435,
     "metadata": {},
     "output_type": "execute_result"
    }
   ],
   "source": [
    "lgb.train(parametros_lgb, df_lgb, num_boost_round=200)"
   ]
  },
  {
   "cell_type": "markdown",
   "metadata": {},
   "source": [
    "### Análise dos dados de treino"
   ]
  },
  {
   "cell_type": "code",
   "execution_count": 436,
   "metadata": {},
   "outputs": [],
   "source": [
    "previsoes_treino_lgbm = lgbm.predict(x_train)"
   ]
  },
  {
   "cell_type": "code",
   "execution_count": 437,
   "metadata": {},
   "outputs": [
    {
     "data": {
      "text/plain": [
       "(641,)"
      ]
     },
     "execution_count": 437,
     "metadata": {},
     "output_type": "execute_result"
    }
   ],
   "source": [
    "previsoes_treino_lgbm.shape"
   ]
  },
  {
   "cell_type": "code",
   "execution_count": 438,
   "metadata": {},
   "outputs": [],
   "source": [
    "for i in range(0, 641):\n",
    "    if previsoes_treino_lgbm[i] >= 0.5:\n",
    "        previsoes_treino_lgbm[i] = 1\n",
    "    else:\n",
    "        previsoes_treino_lgbm[i] = 0"
   ]
  },
  {
   "cell_type": "code",
   "execution_count": 439,
   "metadata": {},
   "outputs": [
    {
     "name": "stdout",
     "output_type": "stream",
     "text": [
      "Matriz de confusão treino:\n",
      "[[248  41]\n",
      " [ 26 326]]\n",
      "\n",
      "Acurácia no treino: 89.55%\n",
      "\n",
      "Metricas treino:\n",
      "              precision    recall  f1-score   support\n",
      "\n",
      "           0       0.91      0.86      0.88       289\n",
      "           1       0.89      0.93      0.91       352\n",
      "\n",
      "    accuracy                           0.90       641\n",
      "   macro avg       0.90      0.89      0.89       641\n",
      "weighted avg       0.90      0.90      0.90       641\n",
      "\n"
     ]
    }
   ],
   "source": [
    "print('Matriz de confusão treino:')\n",
    "print(metrics.confusion_matrix(y_train, previsoes_treino_lgbm))\n",
    "print('')\n",
    "\n",
    "print('Acurácia no treino: %.2f%%' % (metrics.accuracy_score(y_train, previsoes_treino_lgbm)*100))\n",
    "print('')\n",
    "\n",
    "print('Metricas treino:')\n",
    "print(metrics.classification_report(y_train, previsoes_treino_lgbm))"
   ]
  },
  {
   "cell_type": "markdown",
   "metadata": {},
   "source": [
    "### Análise dos dados de teste"
   ]
  },
  {
   "cell_type": "code",
   "execution_count": 440,
   "metadata": {},
   "outputs": [],
   "source": [
    "y_pred_lgbm = lgbm.predict(x_test)"
   ]
  },
  {
   "cell_type": "code",
   "execution_count": 441,
   "metadata": {},
   "outputs": [
    {
     "data": {
      "text/plain": [
       "(276,)"
      ]
     },
     "execution_count": 441,
     "metadata": {},
     "output_type": "execute_result"
    }
   ],
   "source": [
    "y_pred_lgbm.shape"
   ]
  },
  {
   "cell_type": "code",
   "execution_count": 442,
   "metadata": {},
   "outputs": [],
   "source": [
    "#Os valores do lgbm não são de 0 e 1, por isso temos que organizalos\n",
    "for i in range(0, 276):\n",
    "    if y_pred_lgbm[i] >= 0.5:\n",
    "        y_pred_lgbm[i] = 1\n",
    "    else:\n",
    "        y_pred_lgbm[i] = 0"
   ]
  },
  {
   "cell_type": "code",
   "execution_count": 443,
   "metadata": {},
   "outputs": [
    {
     "name": "stdout",
     "output_type": "stream",
     "text": [
      "Matriz de confusão teste:\n",
      "[[101  20]\n",
      " [ 18 137]]\n",
      "\n",
      "Acurácia no teste: 86.23%\n",
      "\n",
      "Metricas teste:\n",
      "              precision    recall  f1-score   support\n",
      "\n",
      "           0       0.85      0.83      0.84       121\n",
      "           1       0.87      0.88      0.88       155\n",
      "\n",
      "    accuracy                           0.86       276\n",
      "   macro avg       0.86      0.86      0.86       276\n",
      "weighted avg       0.86      0.86      0.86       276\n",
      "\n"
     ]
    }
   ],
   "source": [
    "print('Matriz de confusão teste:')\n",
    "print(metrics.confusion_matrix(y_test, y_pred_lgbm))\n",
    "print('')\n",
    "\n",
    "print('Acurácia no teste: %.2f%%' % (metrics.accuracy_score(y_test, y_pred_lgbm)*100))\n",
    "print('')\n",
    "\n",
    "print('Metricas teste:')\n",
    "print(metrics.classification_report(y_test, y_pred_lgbm))"
   ]
  },
  {
   "cell_type": "markdown",
   "metadata": {},
   "source": [
    "### Validação Cruzada"
   ]
  },
  {
   "cell_type": "code",
   "execution_count": 444,
   "metadata": {},
   "outputs": [],
   "source": [
    "modelo_lgbm = lgb.LGBMClassifier(**parametros_lgb)\n",
    "resultado_lgbm = cross_val_score(modelo_lgbm, df_previsores, target, cv=kfold)"
   ]
  },
  {
   "cell_type": "code",
   "execution_count": 445,
   "metadata": {},
   "outputs": [
    {
     "name": "stdout",
     "output_type": "stream",
     "text": [
      "Acurácia média: 85.28%\n"
     ]
    }
   ],
   "source": [
    "print('Acurácia média: %.2f%%' % (resultado_lgbm.mean()*100))"
   ]
  },
  {
   "cell_type": "markdown",
   "metadata": {},
   "source": [
    "### Análise de Desempenho do Modelo LightGBM\n",
    "\n",
    "O modelo obteve os seguintes resultados:\n",
    "\n",
    "- Acurácia no Treino: 89.55%\n",
    "- Acurácia no Teste: 86.23%\n",
    "- Acurácia na Validação Cruzada: 85.27%\n",
    "\n",
    "### Conclusão:\n",
    "A diferença entre as acurácias de treino e teste, bem como a acurácia na validação cruzada, é pequena e indica que o modelo está generalizando bem. O modelo não apresenta sinais claros de **overfitting**, ou  **underfitting** uma vez que o desempenho nos dados de teste e validação é consistente com o de treino. Portanto, o modelo se saiu bem e está ajustado adequadamente, sem problemas de overfitting."
   ]
  },
  {
   "cell_type": "markdown",
   "metadata": {},
   "source": [
    "## CatBoost"
   ]
  },
  {
   "cell_type": "code",
   "execution_count": 446,
   "metadata": {},
   "outputs": [],
   "source": [
    "from catboost import CatBoostClassifier"
   ]
  },
  {
   "cell_type": "code",
   "execution_count": 447,
   "metadata": {},
   "outputs": [],
   "source": [
    "cat = CatBoostClassifier(task_type='CPU', iterations=100, learning_rate=0.1, max_depth=5,\n",
    "                        random_state=5, eval_metric='Accuracy').fit(x_train, y_train,\n",
    "                        verbose=0, eval_set=(x_test, y_test))"
   ]
  },
  {
   "cell_type": "markdown",
   "metadata": {},
   "source": [
    "### Análise dos dados de treino"
   ]
  },
  {
   "cell_type": "code",
   "execution_count": 448,
   "metadata": {},
   "outputs": [],
   "source": [
    "previsoes_treino_cat = cat.predict(x_train)"
   ]
  },
  {
   "cell_type": "code",
   "execution_count": 449,
   "metadata": {},
   "outputs": [
    {
     "name": "stdout",
     "output_type": "stream",
     "text": [
      "Matriz de confusão treino:\n",
      "[[253  36]\n",
      " [ 18 334]]\n",
      "\n",
      "Acurácia no treino: 91.58%\n",
      "\n",
      "Metricas treino:\n",
      "              precision    recall  f1-score   support\n",
      "\n",
      "           0       0.93      0.88      0.90       289\n",
      "           1       0.90      0.95      0.93       352\n",
      "\n",
      "    accuracy                           0.92       641\n",
      "   macro avg       0.92      0.91      0.91       641\n",
      "weighted avg       0.92      0.92      0.92       641\n",
      "\n"
     ]
    }
   ],
   "source": [
    "print('Matriz de confusão treino:')\n",
    "print(metrics.confusion_matrix(y_train, previsoes_treino_cat))\n",
    "print('')\n",
    "\n",
    "print('Acurácia no treino: %.2f%%' % (metrics.accuracy_score(y_train, previsoes_treino_cat)*100))\n",
    "print('')\n",
    "\n",
    "print('Metricas treino:')\n",
    "print(metrics.classification_report(y_train, previsoes_treino_cat))"
   ]
  },
  {
   "cell_type": "markdown",
   "metadata": {},
   "source": [
    "### Análise dos dados de teste"
   ]
  },
  {
   "cell_type": "code",
   "execution_count": 450,
   "metadata": {},
   "outputs": [],
   "source": [
    "y_pred_cat = cat.predict(x_test)"
   ]
  },
  {
   "cell_type": "code",
   "execution_count": 451,
   "metadata": {},
   "outputs": [
    {
     "name": "stdout",
     "output_type": "stream",
     "text": [
      "Matriz de confusão teste:\n",
      "[[101  20]\n",
      " [ 16 139]]\n",
      "\n",
      "Acurácia no teste: 86.96%\n",
      "\n",
      "Metricas teste:\n",
      "              precision    recall  f1-score   support\n",
      "\n",
      "           0       0.86      0.83      0.85       121\n",
      "           1       0.87      0.90      0.89       155\n",
      "\n",
      "    accuracy                           0.87       276\n",
      "   macro avg       0.87      0.87      0.87       276\n",
      "weighted avg       0.87      0.87      0.87       276\n",
      "\n"
     ]
    }
   ],
   "source": [
    "print('Matriz de confusão teste:')\n",
    "print(metrics.confusion_matrix(y_test, y_pred_cat))\n",
    "print('')\n",
    "\n",
    "print('Acurácia no teste: %.2f%%' % (metrics.accuracy_score(y_test, y_pred_cat)*100))\n",
    "print('')\n",
    "\n",
    "print('Metricas teste:')\n",
    "print(metrics.classification_report(y_test, y_pred_cat))"
   ]
  },
  {
   "cell_type": "markdown",
   "metadata": {},
   "source": [
    "### Validação Cruzada"
   ]
  },
  {
   "cell_type": "code",
   "execution_count": null,
   "metadata": {},
   "outputs": [],
   "source": [
    "resultado_cat = cross_val_score(cat, df_previsores, target, cv=kfold)"
   ]
  },
  {
   "cell_type": "code",
   "execution_count": 453,
   "metadata": {},
   "outputs": [
    {
     "name": "stdout",
     "output_type": "stream",
     "text": [
      "Acurácia Validação Cruzada: 87.78%\n"
     ]
    }
   ],
   "source": [
    "print('Acurácia Validação Cruzada: %.2f%%' % (resultado_cat.mean()*100))"
   ]
  },
  {
   "cell_type": "markdown",
   "metadata": {},
   "source": [
    "### Análise de Desempenho do Modelo CatBoost\n",
    "O modelo obteve os seguintes resultados:\n",
    "\n",
    "- Acurácia no Treino: 91.58%\n",
    "- Acurácia no Teste: 86.96%\n",
    "- Acurácia na Validação Cruzada: 87.56%\n",
    "\n",
    "### Conclusão:\n",
    "A diferença entre as acurácias de treino e teste, bem como a acurácia na validação cruzada, é pequena e indica que o modelo está generalizando bem. O modelo não apresenta sinais claros de **overfitting**, ou  **underfitting** uma vez que o desempenho nos dados de teste e validação é consistente com o de treino. Portanto, o modelo se saiu bem e está ajustado adequadamente, sem problemas de overfitting."
   ]
  },
  {
   "cell_type": "markdown",
   "metadata": {},
   "source": [
    "## Resultados dos Modelos de Machine Learning\n",
    "\n",
    "#### 1. Naive Bayes\n",
    "- **Treino:** 84.28%  \n",
    "- **Teste:** 84.78%  \n",
    "- **Validação Cruzada:** 84.17%  \n",
    "- **Acertos:** 234  \n",
    "\n",
    "---\n",
    "\n",
    "#### 2. Support Vector Machine (SVM)\n",
    "- **Treino:** 90.48%  \n",
    "- **Teste:** 85.78%  \n",
    "- **Validação Cruzada:** 86.48%  \n",
    "- **Acertos:** 234  \n",
    "\n",
    "---\n",
    "\n",
    "#### 3. Regressão Logística\n",
    "- **Treino:** 84.87%  \n",
    "- **Teste:** 85.51%  \n",
    "- **Validação Cruzada:** 84.51%  \n",
    "- **Acertos:** 236  \n",
    "\n",
    "---\n",
    "\n",
    "#### 4. K-Nearest Neighbors (KNN)\n",
    "- **Treino:** 89.70%  \n",
    "- **Teste:** 86.23%  \n",
    "- **Validação Cruzada:** 86.25%  \n",
    "- **Acertos:** 238  \n",
    "\n",
    "---\n",
    "\n",
    "#### 5. Decision Tree\n",
    "- **Treino:** 86.58%  \n",
    "- **Teste:** 83.70%  \n",
    "- **Validação Cruzada:** 83.20%  \n",
    "- **Acertos:** 231  \n",
    "\n",
    "---\n",
    "\n",
    "#### 6. Random Forest\n",
    "- **Treino:** 91.42%  \n",
    "- **Teste:** 86.59%  \n",
    "- **Validação Cruzada:** 86.47%  \n",
    "- **Acertos:** 239  \n",
    "\n",
    "---\n",
    "\n",
    "#### 7. XGBoost\n",
    "- **Treino:** 91.42%  \n",
    "- **Teste:** 86.96%  \n",
    "- **Validação Cruzada:** 86.80%  \n",
    "- **Acertos:** 240  \n",
    "\n",
    "---\n",
    "\n",
    "#### 8. LightGBM\n",
    "- **Treino:** 89.55%  \n",
    "- **Teste:** 86.23%  \n",
    "- **Validação Cruzada:** 85.27%  \n",
    "- **Acertos:** 238  \n",
    "\n",
    "---\n",
    "\n",
    "#### 9. CatBoost\n",
    "- **Treino:** 91.58%  \n",
    "- **Teste:** 86.96%  \n",
    "- **Validação Cruzada:** 87.56%  \n",
    "- **Acertos:** 240\n"
   ]
  },
  {
   "cell_type": "markdown",
   "metadata": {},
   "source": [
    "# Otimização dos Hiperparâmetros\n",
    "- Nosso modelo escolhido foi o **CatBoost** por ter mais acertos junto com o XGBoost, porém seu resultado na **Validação Cruzada** foi superior."
   ]
  },
  {
   "cell_type": "code",
   "execution_count": 454,
   "metadata": {},
   "outputs": [],
   "source": [
    "from sklearn.model_selection import GridSearchCV"
   ]
  },
  {
   "cell_type": "code",
   "execution_count": 455,
   "metadata": {},
   "outputs": [],
   "source": [
    "param_grid = {\n",
    "    'iterations':[100, 150, 200], \n",
    "    'learning_rate':[0.02, 0.05, 0.1], \n",
    "    'max_depth':[3, 5, 7],\n",
    "    'random_state':[1, 5, 42] \n",
    "}"
   ]
  },
  {
   "cell_type": "code",
   "execution_count": 456,
   "metadata": {},
   "outputs": [
    {
     "name": "stdout",
     "output_type": "stream",
     "text": [
      "Fitting 3 folds for each of 81 candidates, totalling 243 fits\n",
      "0:\tlearn: 0.8533541\ttotal: 3.99ms\tremaining: 395ms\n",
      "1:\tlearn: 0.8533541\ttotal: 6.11ms\tremaining: 300ms\n",
      "2:\tlearn: 0.8595944\ttotal: 9.45ms\tremaining: 305ms\n",
      "3:\tlearn: 0.8736349\ttotal: 12.8ms\tremaining: 306ms\n",
      "4:\tlearn: 0.8751950\ttotal: 16ms\tremaining: 305ms\n",
      "5:\tlearn: 0.8798752\ttotal: 19.4ms\tremaining: 303ms\n",
      "6:\tlearn: 0.8829953\ttotal: 22.3ms\tremaining: 297ms\n",
      "7:\tlearn: 0.8845554\ttotal: 26.3ms\tremaining: 303ms\n",
      "8:\tlearn: 0.8876755\ttotal: 28.1ms\tremaining: 284ms\n",
      "9:\tlearn: 0.8845554\ttotal: 30.5ms\tremaining: 275ms\n",
      "10:\tlearn: 0.8845554\ttotal: 32.9ms\tremaining: 267ms\n",
      "11:\tlearn: 0.8829953\ttotal: 35ms\tremaining: 256ms\n",
      "12:\tlearn: 0.8814353\ttotal: 35.7ms\tremaining: 239ms\n",
      "13:\tlearn: 0.8814353\ttotal: 37.7ms\tremaining: 231ms\n",
      "14:\tlearn: 0.8814353\ttotal: 40ms\tremaining: 227ms\n",
      "15:\tlearn: 0.8845554\ttotal: 42ms\tremaining: 221ms\n",
      "16:\tlearn: 0.8861154\ttotal: 43.9ms\tremaining: 214ms\n",
      "17:\tlearn: 0.8876755\ttotal: 45.8ms\tremaining: 209ms\n",
      "18:\tlearn: 0.8923557\ttotal: 47.7ms\tremaining: 204ms\n",
      "19:\tlearn: 0.8923557\ttotal: 49.6ms\tremaining: 199ms\n",
      "20:\tlearn: 0.8923557\ttotal: 51.6ms\tremaining: 194ms\n",
      "21:\tlearn: 0.8923557\ttotal: 53.7ms\tremaining: 191ms\n",
      "22:\tlearn: 0.8907956\ttotal: 56ms\tremaining: 187ms\n",
      "23:\tlearn: 0.8970359\ttotal: 57.8ms\tremaining: 183ms\n",
      "24:\tlearn: 0.8954758\ttotal: 59.8ms\tremaining: 179ms\n",
      "25:\tlearn: 0.8954758\ttotal: 61.9ms\tremaining: 176ms\n",
      "26:\tlearn: 0.9001560\ttotal: 63.7ms\tremaining: 172ms\n",
      "27:\tlearn: 0.9017161\ttotal: 65.6ms\tremaining: 169ms\n",
      "28:\tlearn: 0.9032761\ttotal: 66.6ms\tremaining: 163ms\n",
      "29:\tlearn: 0.9079563\ttotal: 68.4ms\tremaining: 160ms\n",
      "30:\tlearn: 0.9079563\ttotal: 70.7ms\tremaining: 157ms\n",
      "31:\tlearn: 0.9095164\ttotal: 72.7ms\tremaining: 155ms\n",
      "32:\tlearn: 0.9079563\ttotal: 74.6ms\tremaining: 151ms\n",
      "33:\tlearn: 0.9141966\ttotal: 76.5ms\tremaining: 149ms\n",
      "34:\tlearn: 0.9126365\ttotal: 78.5ms\tremaining: 146ms\n",
      "35:\tlearn: 0.9173167\ttotal: 80.4ms\tremaining: 143ms\n",
      "36:\tlearn: 0.9126365\ttotal: 81.1ms\tremaining: 138ms\n",
      "37:\tlearn: 0.9141966\ttotal: 82.9ms\tremaining: 135ms\n",
      "38:\tlearn: 0.9157566\ttotal: 85.4ms\tremaining: 134ms\n",
      "39:\tlearn: 0.9204368\ttotal: 87.5ms\tremaining: 131ms\n",
      "40:\tlearn: 0.9204368\ttotal: 89.6ms\tremaining: 129ms\n",
      "41:\tlearn: 0.9204368\ttotal: 91.4ms\tremaining: 126ms\n",
      "42:\tlearn: 0.9188768\ttotal: 93.2ms\tremaining: 124ms\n",
      "43:\tlearn: 0.9204368\ttotal: 95ms\tremaining: 121ms\n",
      "44:\tlearn: 0.9235569\ttotal: 96.9ms\tremaining: 118ms\n",
      "45:\tlearn: 0.9204368\ttotal: 99ms\tremaining: 116ms\n",
      "46:\tlearn: 0.9235569\ttotal: 101ms\tremaining: 114ms\n",
      "47:\tlearn: 0.9251170\ttotal: 103ms\tremaining: 112ms\n",
      "48:\tlearn: 0.9266771\ttotal: 105ms\tremaining: 110ms\n",
      "49:\tlearn: 0.9297972\ttotal: 107ms\tremaining: 107ms\n",
      "50:\tlearn: 0.9282371\ttotal: 109ms\tremaining: 105ms\n",
      "51:\tlearn: 0.9282371\ttotal: 111ms\tremaining: 102ms\n",
      "52:\tlearn: 0.9282371\ttotal: 113ms\tremaining: 100ms\n",
      "53:\tlearn: 0.9266771\ttotal: 115ms\tremaining: 98.1ms\n",
      "54:\tlearn: 0.9313573\ttotal: 117ms\tremaining: 95.9ms\n",
      "55:\tlearn: 0.9297972\ttotal: 120ms\tremaining: 93.9ms\n",
      "56:\tlearn: 0.9313573\ttotal: 122ms\tremaining: 91.7ms\n",
      "57:\tlearn: 0.9329173\ttotal: 124ms\tremaining: 89.5ms\n",
      "58:\tlearn: 0.9329173\ttotal: 125ms\tremaining: 87.2ms\n",
      "59:\tlearn: 0.9329173\ttotal: 127ms\tremaining: 84.9ms\n",
      "60:\tlearn: 0.9329173\ttotal: 129ms\tremaining: 82.8ms\n",
      "61:\tlearn: 0.9329173\ttotal: 132ms\tremaining: 80.6ms\n",
      "62:\tlearn: 0.9329173\ttotal: 134ms\tremaining: 78.5ms\n",
      "63:\tlearn: 0.9329173\ttotal: 135ms\tremaining: 76.2ms\n",
      "64:\tlearn: 0.9313573\ttotal: 137ms\tremaining: 73.9ms\n",
      "65:\tlearn: 0.9297972\ttotal: 139ms\tremaining: 71.7ms\n",
      "66:\tlearn: 0.9313573\ttotal: 141ms\tremaining: 69.4ms\n",
      "67:\tlearn: 0.9329173\ttotal: 143ms\tremaining: 67.2ms\n",
      "68:\tlearn: 0.9329173\ttotal: 145ms\tremaining: 65.2ms\n",
      "69:\tlearn: 0.9329173\ttotal: 147ms\tremaining: 63.2ms\n",
      "70:\tlearn: 0.9329173\ttotal: 149ms\tremaining: 61ms\n",
      "71:\tlearn: 0.9329173\ttotal: 151ms\tremaining: 58.8ms\n",
      "72:\tlearn: 0.9297972\ttotal: 153ms\tremaining: 56.6ms\n",
      "73:\tlearn: 0.9329173\ttotal: 155ms\tremaining: 54.4ms\n",
      "74:\tlearn: 0.9313573\ttotal: 157ms\tremaining: 52.2ms\n",
      "75:\tlearn: 0.9313573\ttotal: 158ms\tremaining: 50ms\n",
      "76:\tlearn: 0.9313573\ttotal: 161ms\tremaining: 48.1ms\n",
      "77:\tlearn: 0.9313573\ttotal: 163ms\tremaining: 46.1ms\n",
      "78:\tlearn: 0.9313573\ttotal: 165ms\tremaining: 43.9ms\n",
      "79:\tlearn: 0.9313573\ttotal: 167ms\tremaining: 41.7ms\n",
      "80:\tlearn: 0.9313573\ttotal: 169ms\tremaining: 39.6ms\n",
      "81:\tlearn: 0.9329173\ttotal: 170ms\tremaining: 37.4ms\n",
      "82:\tlearn: 0.9329173\ttotal: 172ms\tremaining: 35.2ms\n",
      "83:\tlearn: 0.9313573\ttotal: 174ms\tremaining: 33.1ms\n",
      "84:\tlearn: 0.9329173\ttotal: 177ms\tremaining: 31.2ms\n",
      "85:\tlearn: 0.9329173\ttotal: 178ms\tremaining: 29ms\n",
      "86:\tlearn: 0.9344774\ttotal: 180ms\tremaining: 26.9ms\n",
      "87:\tlearn: 0.9344774\ttotal: 182ms\tremaining: 24.8ms\n",
      "88:\tlearn: 0.9344774\ttotal: 183ms\tremaining: 22.7ms\n",
      "89:\tlearn: 0.9344774\ttotal: 185ms\tremaining: 20.6ms\n",
      "90:\tlearn: 0.9329173\ttotal: 187ms\tremaining: 18.5ms\n",
      "91:\tlearn: 0.9344774\ttotal: 189ms\tremaining: 16.4ms\n",
      "92:\tlearn: 0.9344774\ttotal: 192ms\tremaining: 14.4ms\n",
      "93:\tlearn: 0.9344774\ttotal: 194ms\tremaining: 12.4ms\n",
      "94:\tlearn: 0.9344774\ttotal: 196ms\tremaining: 10.3ms\n",
      "95:\tlearn: 0.9344774\ttotal: 197ms\tremaining: 8.22ms\n",
      "96:\tlearn: 0.9344774\ttotal: 199ms\tremaining: 6.16ms\n",
      "97:\tlearn: 0.9344774\ttotal: 201ms\tremaining: 4.1ms\n",
      "98:\tlearn: 0.9344774\ttotal: 203ms\tremaining: 2.05ms\n",
      "99:\tlearn: 0.9344774\ttotal: 205ms\tremaining: 0us\n"
     ]
    }
   ],
   "source": [
    "grid = GridSearchCV(cat, param_grid, scoring='roc_auc', cv=3, n_jobs=-1, verbose=1).fit(x_train, y_train)"
   ]
  },
  {
   "cell_type": "code",
   "execution_count": 457,
   "metadata": {},
   "outputs": [
    {
     "name": "stdout",
     "output_type": "stream",
     "text": [
      "Melhores parâmetros: {'iterations': 100, 'learning_rate': 0.1, 'max_depth': 7, 'random_state': 42}\n"
     ]
    }
   ],
   "source": [
    "print(\"Melhores parâmetros:\", grid.best_params_)"
   ]
  },
  {
   "cell_type": "code",
   "execution_count": 458,
   "metadata": {},
   "outputs": [
    {
     "name": "stdout",
     "output_type": "stream",
     "text": [
      "(81, 15)\n"
     ]
    }
   ],
   "source": [
    "resultado_final = pd.DataFrame(grid.cv_results_)\n",
    "print(resultado_final.shape)"
   ]
  },
  {
   "cell_type": "markdown",
   "metadata": {},
   "source": [
    "### Melhores resultados"
   ]
  },
  {
   "cell_type": "code",
   "execution_count": 459,
   "metadata": {},
   "outputs": [
    {
     "data": {
      "text/html": [
       "<div>\n",
       "<style scoped>\n",
       "    .dataframe tbody tr th:only-of-type {\n",
       "        vertical-align: middle;\n",
       "    }\n",
       "\n",
       "    .dataframe tbody tr th {\n",
       "        vertical-align: top;\n",
       "    }\n",
       "\n",
       "    .dataframe thead th {\n",
       "        text-align: right;\n",
       "    }\n",
       "</style>\n",
       "<table border=\"1\" class=\"dataframe\">\n",
       "  <thead>\n",
       "    <tr style=\"text-align: right;\">\n",
       "      <th></th>\n",
       "      <th>mean_fit_time</th>\n",
       "      <th>std_fit_time</th>\n",
       "      <th>mean_score_time</th>\n",
       "      <th>std_score_time</th>\n",
       "      <th>param_iterations</th>\n",
       "      <th>param_learning_rate</th>\n",
       "      <th>param_max_depth</th>\n",
       "      <th>param_random_state</th>\n",
       "      <th>params</th>\n",
       "      <th>split0_test_score</th>\n",
       "      <th>split1_test_score</th>\n",
       "      <th>split2_test_score</th>\n",
       "      <th>mean_test_score</th>\n",
       "      <th>std_test_score</th>\n",
       "      <th>rank_test_score</th>\n",
       "    </tr>\n",
       "  </thead>\n",
       "  <tbody>\n",
       "    <tr>\n",
       "      <th>26</th>\n",
       "      <td>1.019826</td>\n",
       "      <td>0.040030</td>\n",
       "      <td>0.014448</td>\n",
       "      <td>0.001563</td>\n",
       "      <td>100</td>\n",
       "      <td>0.10</td>\n",
       "      <td>7</td>\n",
       "      <td>42</td>\n",
       "      <td>{'iterations': 100, 'learning_rate': 0.1, 'max...</td>\n",
       "      <td>0.918785</td>\n",
       "      <td>0.932064</td>\n",
       "      <td>0.931001</td>\n",
       "      <td>0.927284</td>\n",
       "      <td>0.006025</td>\n",
       "      <td>1</td>\n",
       "    </tr>\n",
       "    <tr>\n",
       "      <th>53</th>\n",
       "      <td>1.407755</td>\n",
       "      <td>0.047941</td>\n",
       "      <td>0.015163</td>\n",
       "      <td>0.001685</td>\n",
       "      <td>150</td>\n",
       "      <td>0.10</td>\n",
       "      <td>7</td>\n",
       "      <td>42</td>\n",
       "      <td>{'iterations': 150, 'learning_rate': 0.1, 'max...</td>\n",
       "      <td>0.920109</td>\n",
       "      <td>0.929685</td>\n",
       "      <td>0.930377</td>\n",
       "      <td>0.926724</td>\n",
       "      <td>0.004686</td>\n",
       "      <td>2</td>\n",
       "    </tr>\n",
       "    <tr>\n",
       "      <th>58</th>\n",
       "      <td>1.602292</td>\n",
       "      <td>0.027912</td>\n",
       "      <td>0.013779</td>\n",
       "      <td>0.000851</td>\n",
       "      <td>200</td>\n",
       "      <td>0.02</td>\n",
       "      <td>5</td>\n",
       "      <td>5</td>\n",
       "      <td>{'iterations': 200, 'learning_rate': 0.02, 'ma...</td>\n",
       "      <td>0.925406</td>\n",
       "      <td>0.926954</td>\n",
       "      <td>0.927796</td>\n",
       "      <td>0.926719</td>\n",
       "      <td>0.000990</td>\n",
       "      <td>3</td>\n",
       "    </tr>\n",
       "  </tbody>\n",
       "</table>\n",
       "</div>"
      ],
      "text/plain": [
       "    mean_fit_time  std_fit_time  mean_score_time  std_score_time  \\\n",
       "26       1.019826      0.040030         0.014448        0.001563   \n",
       "53       1.407755      0.047941         0.015163        0.001685   \n",
       "58       1.602292      0.027912         0.013779        0.000851   \n",
       "\n",
       "    param_iterations  param_learning_rate  param_max_depth  \\\n",
       "26               100                 0.10                7   \n",
       "53               150                 0.10                7   \n",
       "58               200                 0.02                5   \n",
       "\n",
       "    param_random_state                                             params  \\\n",
       "26                  42  {'iterations': 100, 'learning_rate': 0.1, 'max...   \n",
       "53                  42  {'iterations': 150, 'learning_rate': 0.1, 'max...   \n",
       "58                   5  {'iterations': 200, 'learning_rate': 0.02, 'ma...   \n",
       "\n",
       "    split0_test_score  split1_test_score  split2_test_score  mean_test_score  \\\n",
       "26           0.918785           0.932064           0.931001         0.927284   \n",
       "53           0.920109           0.929685           0.930377         0.926724   \n",
       "58           0.925406           0.926954           0.927796         0.926719   \n",
       "\n",
       "    std_test_score  rank_test_score  \n",
       "26        0.006025                1  \n",
       "53        0.004686                2  \n",
       "58        0.000990                3  "
      ]
     },
     "execution_count": 459,
     "metadata": {},
     "output_type": "execute_result"
    }
   ],
   "source": [
    "resultado_final.sort_values(by='mean_test_score', ascending=False).head(3)"
   ]
  },
  {
   "cell_type": "markdown",
   "metadata": {},
   "source": [
    "# Conclusão Geral\n",
    "\n",
    "O objetivo de classificar com eficiência a tendência de uma pessoa desenvolver doenças cardíacas foi alcançado. Através do ajuste dos hiperparâmetros com o GridSearchCV, o modelo obteve uma **pontuação média de teste de 92.72%**, demonstrando boa eficiência.\n",
    "\n",
    "Portanto, conseguimos **classificar com eficiência** a tendência a doenças cardíacas, otimizando tanto o desempenho quanto o tempo de treinamento."
   ]
  }
 ],
 "metadata": {
  "kernelspec": {
   "display_name": "Python 3",
   "language": "python",
   "name": "python3"
  },
  "language_info": {
   "codemirror_mode": {
    "name": "ipython",
    "version": 3
   },
   "file_extension": ".py",
   "mimetype": "text/x-python",
   "name": "python",
   "nbconvert_exporter": "python",
   "pygments_lexer": "ipython3",
   "version": "3.10.11"
  }
 },
 "nbformat": 4,
 "nbformat_minor": 2
}
